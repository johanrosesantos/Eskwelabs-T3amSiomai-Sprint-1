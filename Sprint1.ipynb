{
  "nbformat": 4,
  "nbformat_minor": 0,
  "metadata": {
    "colab": {
      "provenance": [],
      "toc_visible": true,
      "collapsed_sections": [
        "mw3BlHcTTSyb",
        "E97urD9CclK3",
        "ddoEy2ahWiWu"
      ],
      "include_colab_link": true
    },
    "kernelspec": {
      "name": "python3",
      "display_name": "Python 3"
    },
    "language_info": {
      "name": "python"
    }
  },
  "cells": [
    {
      "cell_type": "markdown",
      "metadata": {
        "id": "view-in-github",
        "colab_type": "text"
      },
      "source": [
        "<a href=\"https://colab.research.google.com/github/johanrosesantos/Eskwelabs-T3amSiomai-Sprints/blob/main/Sprint1.ipynb\" target=\"_parent\"><img src=\"https://colab.research.google.com/assets/colab-badge.svg\" alt=\"Open In Colab\"/></a>"
      ]
    },
    {
      "cell_type": "markdown",
      "source": [
        "# Libraries"
      ],
      "metadata": {
        "id": "dUEhdW0NOztF"
      }
    },
    {
      "cell_type": "code",
      "execution_count": 107,
      "metadata": {
        "id": "ZaGYQs-NOq1g"
      },
      "outputs": [],
      "source": [
        "import pandas as pd\n",
        "import numpy as np\n",
        "import matplotlib.pyplot as plt\n",
        "import seaborn as sns\n",
        "import datetime"
      ]
    },
    {
      "cell_type": "markdown",
      "source": [
        "# Reading File"
      ],
      "metadata": {
        "id": "NAentVnDO5Gs"
      }
    },
    {
      "cell_type": "code",
      "source": [
        "from google.colab import drive\n",
        "drive.mount('/content/drive')\n",
        "import os\n",
        "os.chdir('/content/drive/MyDrive/Eskwelabs DSFC13/Sprint 1/Data')\n",
        "\n",
        "df = pd.read_csv(\"cc_clean_featureengg.csv\")\n",
        "holiday = pd.read_csv(\"holidays_2122.csv\")"
      ],
      "metadata": {
        "collapsed": true,
        "id": "frY8Vr4EO4gs"
      },
      "execution_count": 83,
      "outputs": []
    },
    {
      "cell_type": "code",
      "source": [
        "df\n",
        "holiday.head()"
      ],
      "metadata": {
        "colab": {
          "base_uri": "https://localhost:8080/",
          "height": 206
        },
        "id": "bjIAbg7WS31O",
        "outputId": "6cea8b36-fc4d-4a38-b53f-53131cb1ebb8"
      },
      "execution_count": 11,
      "outputs": [
        {
          "output_type": "execute_result",
          "data": {
            "text/plain": [
              "         date       day                          event  \\\n",
              "0  01/01/2021    Friday                 New Year's Day   \n",
              "1  23/01/2021  Saturday  First Philippine Republic Day   \n",
              "2  12/02/2021    Friday           Lunar New Year's Day   \n",
              "3  14/02/2021       NaN                Valentine's Day   \n",
              "4  25/02/2021  Thursday       People Power Anniversary   \n",
              "\n",
              "                      category  \n",
              "0              Regular Holiday  \n",
              "1          Special Working Day  \n",
              "2  Special Non-working Holiday  \n",
              "3               Retail Holiday  \n",
              "4  Special Non-working Holiday  "
            ],
            "text/html": [
              "\n",
              "  <div id=\"df-7d7dbc91-e102-47ff-9308-50ee9da88ff0\" class=\"colab-df-container\">\n",
              "    <div>\n",
              "<style scoped>\n",
              "    .dataframe tbody tr th:only-of-type {\n",
              "        vertical-align: middle;\n",
              "    }\n",
              "\n",
              "    .dataframe tbody tr th {\n",
              "        vertical-align: top;\n",
              "    }\n",
              "\n",
              "    .dataframe thead th {\n",
              "        text-align: right;\n",
              "    }\n",
              "</style>\n",
              "<table border=\"1\" class=\"dataframe\">\n",
              "  <thead>\n",
              "    <tr style=\"text-align: right;\">\n",
              "      <th></th>\n",
              "      <th>date</th>\n",
              "      <th>day</th>\n",
              "      <th>event</th>\n",
              "      <th>category</th>\n",
              "    </tr>\n",
              "  </thead>\n",
              "  <tbody>\n",
              "    <tr>\n",
              "      <th>0</th>\n",
              "      <td>01/01/2021</td>\n",
              "      <td>Friday</td>\n",
              "      <td>New Year's Day</td>\n",
              "      <td>Regular Holiday</td>\n",
              "    </tr>\n",
              "    <tr>\n",
              "      <th>1</th>\n",
              "      <td>23/01/2021</td>\n",
              "      <td>Saturday</td>\n",
              "      <td>First Philippine Republic Day</td>\n",
              "      <td>Special Working Day</td>\n",
              "    </tr>\n",
              "    <tr>\n",
              "      <th>2</th>\n",
              "      <td>12/02/2021</td>\n",
              "      <td>Friday</td>\n",
              "      <td>Lunar New Year's Day</td>\n",
              "      <td>Special Non-working Holiday</td>\n",
              "    </tr>\n",
              "    <tr>\n",
              "      <th>3</th>\n",
              "      <td>14/02/2021</td>\n",
              "      <td>NaN</td>\n",
              "      <td>Valentine's Day</td>\n",
              "      <td>Retail Holiday</td>\n",
              "    </tr>\n",
              "    <tr>\n",
              "      <th>4</th>\n",
              "      <td>25/02/2021</td>\n",
              "      <td>Thursday</td>\n",
              "      <td>People Power Anniversary</td>\n",
              "      <td>Special Non-working Holiday</td>\n",
              "    </tr>\n",
              "  </tbody>\n",
              "</table>\n",
              "</div>\n",
              "    <div class=\"colab-df-buttons\">\n",
              "\n",
              "  <div class=\"colab-df-container\">\n",
              "    <button class=\"colab-df-convert\" onclick=\"convertToInteractive('df-7d7dbc91-e102-47ff-9308-50ee9da88ff0')\"\n",
              "            title=\"Convert this dataframe to an interactive table.\"\n",
              "            style=\"display:none;\">\n",
              "\n",
              "  <svg xmlns=\"http://www.w3.org/2000/svg\" height=\"24px\" viewBox=\"0 -960 960 960\">\n",
              "    <path d=\"M120-120v-720h720v720H120Zm60-500h600v-160H180v160Zm220 220h160v-160H400v160Zm0 220h160v-160H400v160ZM180-400h160v-160H180v160Zm440 0h160v-160H620v160ZM180-180h160v-160H180v160Zm440 0h160v-160H620v160Z\"/>\n",
              "  </svg>\n",
              "    </button>\n",
              "\n",
              "  <style>\n",
              "    .colab-df-container {\n",
              "      display:flex;\n",
              "      gap: 12px;\n",
              "    }\n",
              "\n",
              "    .colab-df-convert {\n",
              "      background-color: #E8F0FE;\n",
              "      border: none;\n",
              "      border-radius: 50%;\n",
              "      cursor: pointer;\n",
              "      display: none;\n",
              "      fill: #1967D2;\n",
              "      height: 32px;\n",
              "      padding: 0 0 0 0;\n",
              "      width: 32px;\n",
              "    }\n",
              "\n",
              "    .colab-df-convert:hover {\n",
              "      background-color: #E2EBFA;\n",
              "      box-shadow: 0px 1px 2px rgba(60, 64, 67, 0.3), 0px 1px 3px 1px rgba(60, 64, 67, 0.15);\n",
              "      fill: #174EA6;\n",
              "    }\n",
              "\n",
              "    .colab-df-buttons div {\n",
              "      margin-bottom: 4px;\n",
              "    }\n",
              "\n",
              "    [theme=dark] .colab-df-convert {\n",
              "      background-color: #3B4455;\n",
              "      fill: #D2E3FC;\n",
              "    }\n",
              "\n",
              "    [theme=dark] .colab-df-convert:hover {\n",
              "      background-color: #434B5C;\n",
              "      box-shadow: 0px 1px 3px 1px rgba(0, 0, 0, 0.15);\n",
              "      filter: drop-shadow(0px 1px 2px rgba(0, 0, 0, 0.3));\n",
              "      fill: #FFFFFF;\n",
              "    }\n",
              "  </style>\n",
              "\n",
              "    <script>\n",
              "      const buttonEl =\n",
              "        document.querySelector('#df-7d7dbc91-e102-47ff-9308-50ee9da88ff0 button.colab-df-convert');\n",
              "      buttonEl.style.display =\n",
              "        google.colab.kernel.accessAllowed ? 'block' : 'none';\n",
              "\n",
              "      async function convertToInteractive(key) {\n",
              "        const element = document.querySelector('#df-7d7dbc91-e102-47ff-9308-50ee9da88ff0');\n",
              "        const dataTable =\n",
              "          await google.colab.kernel.invokeFunction('convertToInteractive',\n",
              "                                                    [key], {});\n",
              "        if (!dataTable) return;\n",
              "\n",
              "        const docLinkHtml = 'Like what you see? Visit the ' +\n",
              "          '<a target=\"_blank\" href=https://colab.research.google.com/notebooks/data_table.ipynb>data table notebook</a>'\n",
              "          + ' to learn more about interactive tables.';\n",
              "        element.innerHTML = '';\n",
              "        dataTable['output_type'] = 'display_data';\n",
              "        await google.colab.output.renderOutput(dataTable, element);\n",
              "        const docLink = document.createElement('div');\n",
              "        docLink.innerHTML = docLinkHtml;\n",
              "        element.appendChild(docLink);\n",
              "      }\n",
              "    </script>\n",
              "  </div>\n",
              "\n",
              "\n",
              "<div id=\"df-81f38f32-98d9-4016-90ae-65db7fb439a9\">\n",
              "  <button class=\"colab-df-quickchart\" onclick=\"quickchart('df-81f38f32-98d9-4016-90ae-65db7fb439a9')\"\n",
              "            title=\"Suggest charts\"\n",
              "            style=\"display:none;\">\n",
              "\n",
              "<svg xmlns=\"http://www.w3.org/2000/svg\" height=\"24px\"viewBox=\"0 0 24 24\"\n",
              "     width=\"24px\">\n",
              "    <g>\n",
              "        <path d=\"M19 3H5c-1.1 0-2 .9-2 2v14c0 1.1.9 2 2 2h14c1.1 0 2-.9 2-2V5c0-1.1-.9-2-2-2zM9 17H7v-7h2v7zm4 0h-2V7h2v10zm4 0h-2v-4h2v4z\"/>\n",
              "    </g>\n",
              "</svg>\n",
              "  </button>\n",
              "\n",
              "<style>\n",
              "  .colab-df-quickchart {\n",
              "      --bg-color: #E8F0FE;\n",
              "      --fill-color: #1967D2;\n",
              "      --hover-bg-color: #E2EBFA;\n",
              "      --hover-fill-color: #174EA6;\n",
              "      --disabled-fill-color: #AAA;\n",
              "      --disabled-bg-color: #DDD;\n",
              "  }\n",
              "\n",
              "  [theme=dark] .colab-df-quickchart {\n",
              "      --bg-color: #3B4455;\n",
              "      --fill-color: #D2E3FC;\n",
              "      --hover-bg-color: #434B5C;\n",
              "      --hover-fill-color: #FFFFFF;\n",
              "      --disabled-bg-color: #3B4455;\n",
              "      --disabled-fill-color: #666;\n",
              "  }\n",
              "\n",
              "  .colab-df-quickchart {\n",
              "    background-color: var(--bg-color);\n",
              "    border: none;\n",
              "    border-radius: 50%;\n",
              "    cursor: pointer;\n",
              "    display: none;\n",
              "    fill: var(--fill-color);\n",
              "    height: 32px;\n",
              "    padding: 0;\n",
              "    width: 32px;\n",
              "  }\n",
              "\n",
              "  .colab-df-quickchart:hover {\n",
              "    background-color: var(--hover-bg-color);\n",
              "    box-shadow: 0 1px 2px rgba(60, 64, 67, 0.3), 0 1px 3px 1px rgba(60, 64, 67, 0.15);\n",
              "    fill: var(--button-hover-fill-color);\n",
              "  }\n",
              "\n",
              "  .colab-df-quickchart-complete:disabled,\n",
              "  .colab-df-quickchart-complete:disabled:hover {\n",
              "    background-color: var(--disabled-bg-color);\n",
              "    fill: var(--disabled-fill-color);\n",
              "    box-shadow: none;\n",
              "  }\n",
              "\n",
              "  .colab-df-spinner {\n",
              "    border: 2px solid var(--fill-color);\n",
              "    border-color: transparent;\n",
              "    border-bottom-color: var(--fill-color);\n",
              "    animation:\n",
              "      spin 1s steps(1) infinite;\n",
              "  }\n",
              "\n",
              "  @keyframes spin {\n",
              "    0% {\n",
              "      border-color: transparent;\n",
              "      border-bottom-color: var(--fill-color);\n",
              "      border-left-color: var(--fill-color);\n",
              "    }\n",
              "    20% {\n",
              "      border-color: transparent;\n",
              "      border-left-color: var(--fill-color);\n",
              "      border-top-color: var(--fill-color);\n",
              "    }\n",
              "    30% {\n",
              "      border-color: transparent;\n",
              "      border-left-color: var(--fill-color);\n",
              "      border-top-color: var(--fill-color);\n",
              "      border-right-color: var(--fill-color);\n",
              "    }\n",
              "    40% {\n",
              "      border-color: transparent;\n",
              "      border-right-color: var(--fill-color);\n",
              "      border-top-color: var(--fill-color);\n",
              "    }\n",
              "    60% {\n",
              "      border-color: transparent;\n",
              "      border-right-color: var(--fill-color);\n",
              "    }\n",
              "    80% {\n",
              "      border-color: transparent;\n",
              "      border-right-color: var(--fill-color);\n",
              "      border-bottom-color: var(--fill-color);\n",
              "    }\n",
              "    90% {\n",
              "      border-color: transparent;\n",
              "      border-bottom-color: var(--fill-color);\n",
              "    }\n",
              "  }\n",
              "</style>\n",
              "\n",
              "  <script>\n",
              "    async function quickchart(key) {\n",
              "      const quickchartButtonEl =\n",
              "        document.querySelector('#' + key + ' button');\n",
              "      quickchartButtonEl.disabled = true;  // To prevent multiple clicks.\n",
              "      quickchartButtonEl.classList.add('colab-df-spinner');\n",
              "      try {\n",
              "        const charts = await google.colab.kernel.invokeFunction(\n",
              "            'suggestCharts', [key], {});\n",
              "      } catch (error) {\n",
              "        console.error('Error during call to suggestCharts:', error);\n",
              "      }\n",
              "      quickchartButtonEl.classList.remove('colab-df-spinner');\n",
              "      quickchartButtonEl.classList.add('colab-df-quickchart-complete');\n",
              "    }\n",
              "    (() => {\n",
              "      let quickchartButtonEl =\n",
              "        document.querySelector('#df-81f38f32-98d9-4016-90ae-65db7fb439a9 button');\n",
              "      quickchartButtonEl.style.display =\n",
              "        google.colab.kernel.accessAllowed ? 'block' : 'none';\n",
              "    })();\n",
              "  </script>\n",
              "</div>\n",
              "    </div>\n",
              "  </div>\n"
            ],
            "application/vnd.google.colaboratory.intrinsic+json": {
              "type": "dataframe",
              "variable_name": "holiday",
              "summary": "{\n  \"name\": \"holiday\",\n  \"rows\": 69,\n  \"fields\": [\n    {\n      \"column\": \"date\",\n      \"properties\": {\n        \"dtype\": \"string\",\n        \"num_unique_values\": 69,\n        \"samples\": [\n          \"18/10/2021\",\n          \"01/01/2021\",\n          \"09/05/2022\"\n        ],\n        \"semantic_type\": \"\",\n        \"description\": \"\"\n      }\n    },\n    {\n      \"column\": \"day\",\n      \"properties\": {\n        \"dtype\": \"category\",\n        \"num_unique_values\": 7,\n        \"samples\": [\n          \"Friday\",\n          \"Saturday\",\n          \"Wednesday\"\n        ],\n        \"semantic_type\": \"\",\n        \"description\": \"\"\n      }\n    },\n    {\n      \"column\": \"event\",\n      \"properties\": {\n        \"dtype\": \"string\",\n        \"num_unique_values\": 37,\n        \"samples\": [\n          \"Eid al-Adha Day 2\",\n          \"Mother's Day\",\n          \"People Power Anniversary\"\n        ],\n        \"semantic_type\": \"\",\n        \"description\": \"\"\n      }\n    },\n    {\n      \"column\": \"category\",\n      \"properties\": {\n        \"dtype\": \"category\",\n        \"num_unique_values\": 7,\n        \"samples\": [\n          \"Regular Holiday\",\n          \"Special Working Day\",\n          \"Observance\"\n        ],\n        \"semantic_type\": \"\",\n        \"description\": \"\"\n      }\n    }\n  ]\n}"
            }
          },
          "metadata": {},
          "execution_count": 11
        }
      ]
    },
    {
      "cell_type": "markdown",
      "source": [
        "## Converting/Cleaning data format"
      ],
      "metadata": {
        "id": "TY7Bm0dZT8tQ"
      }
    },
    {
      "cell_type": "code",
      "source": [
        "# Convert acct_num to integer; date of birth and trans_datetime from object to datetime\n",
        "df['acct_num'] = df['acct_num'].astype(int)\n",
        "df['dob'] = pd.to_datetime(df['dob'])\n",
        "df['trans_datetime'] = pd.to_datetime(df['trans_datetime'])\n",
        "holiday['date'] = pd.to_datetime(holiday['date'], format='%d/%m/%Y')"
      ],
      "metadata": {
        "collapsed": true,
        "id": "hleOrdAWOzBq"
      },
      "execution_count": 91,
      "outputs": []
    },
    {
      "cell_type": "code",
      "source": [
        "# Correcting age and coverting to integer\n",
        "current_date = pd.to_datetime(\"2022-01-01\")\n",
        "df[\"age\"] = ((current_date - df[\"dob\"])// pd.Timedelta(days=365.25)).astype(int)\n",
        "\n",
        "df[\"age\"].describe()"
      ],
      "metadata": {
        "id": "Xa1NnK7tUMiW",
        "colab": {
          "base_uri": "https://localhost:8080/"
        },
        "outputId": "5ccb99e7-7f01-4c8b-8724-a98261d3ce39"
      },
      "execution_count": 92,
      "outputs": [
        {
          "output_type": "execute_result",
          "data": {
            "text/plain": [
              "count    92432.000000\n",
              "mean        66.443645\n",
              "std         10.478605\n",
              "min         51.000000\n",
              "25%         58.000000\n",
              "50%         65.000000\n",
              "75%         72.000000\n",
              "max         95.000000\n",
              "Name: age, dtype: float64"
            ]
          },
          "metadata": {},
          "execution_count": 92
        }
      ]
    },
    {
      "cell_type": "markdown",
      "source": [
        "# Segmentation"
      ],
      "metadata": {
        "id": "igeLlrULTN76"
      }
    },
    {
      "cell_type": "code",
      "source": [
        "df.head()"
      ],
      "metadata": {
        "colab": {
          "base_uri": "https://localhost:8080/",
          "height": 330
        },
        "id": "I-Nq84Rp5AqJ",
        "outputId": "f47bacd2-09a1-46e5-e64d-953332c71af8"
      },
      "execution_count": 24,
      "outputs": [
        {
          "output_type": "execute_result",
          "data": {
            "text/plain": [
              "         cc_num gender               city  city_pop  \\\n",
              "0  6.760000e+11      M         Dasmarinas    659019   \n",
              "1  3.520000e+15      M              Digos    169393   \n",
              "2  4.140000e+18      M            Calapan    133893   \n",
              "3  4.720000e+15      M              Laoag    111125   \n",
              "4  3.530000e+15      M  City of Paranaque    665822   \n",
              "\n",
              "                                                job        dob      acct_num  \\\n",
              "0                           Chartered loss adjuster 1958-12-12  798000000000   \n",
              "1  Administrator, charities/voluntary organisations 1970-08-31  968000000000   \n",
              "2                              Financial controller 1953-07-23  628000000000   \n",
              "3                    Dance movement psychotherapist 1954-01-11  257000000000   \n",
              "4                                   Engineer, water 1961-07-31  540000000000   \n",
              "\n",
              "      acct_num2                         trans_num   unix_time       category  \\\n",
              "0  798000000000  a72eaa86b043eed95b25bbb25b3153a1  1581314011   shopping_net   \n",
              "1  968000000000  060d12f91c13871a13963041736a4702  1590902968  entertainment   \n",
              "2  628000000000  18aafb6098ab0923886c0ac83592ef8d  1585461157    food_dining   \n",
              "3  257000000000  c20ee88b451f637bc6893b7460e9fee0  1601282159  gas_transport   \n",
              "4  540000000000  b389cc449c9c298e8c004024449f7a27  1594960430   shopping_net   \n",
              "\n",
              "      amt      trans_datetime  age time_of_day season is_holiday       age_bin  \n",
              "0   68.88 2020-02-10 13:53:31   63   afternoon    Dry          n  Baby Boomers  \n",
              "1   50.06 2020-05-31 13:29:28   51   afternoon    Dry          n         Gen X  \n",
              "2  105.44 2020-03-29 13:52:37   68   afternoon    Dry          n  Baby Boomers  \n",
              "3   82.69 2020-09-28 16:35:59   67   afternoon  Rainy          n  Baby Boomers  \n",
              "4  363.49 2020-07-17 12:33:50   60   afternoon  Rainy          n  Baby Boomers  "
            ],
            "text/html": [
              "\n",
              "  <div id=\"df-0dc146dd-551e-41ce-bd86-66b211168b58\" class=\"colab-df-container\">\n",
              "    <div>\n",
              "<style scoped>\n",
              "    .dataframe tbody tr th:only-of-type {\n",
              "        vertical-align: middle;\n",
              "    }\n",
              "\n",
              "    .dataframe tbody tr th {\n",
              "        vertical-align: top;\n",
              "    }\n",
              "\n",
              "    .dataframe thead th {\n",
              "        text-align: right;\n",
              "    }\n",
              "</style>\n",
              "<table border=\"1\" class=\"dataframe\">\n",
              "  <thead>\n",
              "    <tr style=\"text-align: right;\">\n",
              "      <th></th>\n",
              "      <th>cc_num</th>\n",
              "      <th>gender</th>\n",
              "      <th>city</th>\n",
              "      <th>city_pop</th>\n",
              "      <th>job</th>\n",
              "      <th>dob</th>\n",
              "      <th>acct_num</th>\n",
              "      <th>acct_num2</th>\n",
              "      <th>trans_num</th>\n",
              "      <th>unix_time</th>\n",
              "      <th>category</th>\n",
              "      <th>amt</th>\n",
              "      <th>trans_datetime</th>\n",
              "      <th>age</th>\n",
              "      <th>time_of_day</th>\n",
              "      <th>season</th>\n",
              "      <th>is_holiday</th>\n",
              "      <th>age_bin</th>\n",
              "    </tr>\n",
              "  </thead>\n",
              "  <tbody>\n",
              "    <tr>\n",
              "      <th>0</th>\n",
              "      <td>6.760000e+11</td>\n",
              "      <td>M</td>\n",
              "      <td>Dasmarinas</td>\n",
              "      <td>659019</td>\n",
              "      <td>Chartered loss adjuster</td>\n",
              "      <td>1958-12-12</td>\n",
              "      <td>798000000000</td>\n",
              "      <td>798000000000</td>\n",
              "      <td>a72eaa86b043eed95b25bbb25b3153a1</td>\n",
              "      <td>1581314011</td>\n",
              "      <td>shopping_net</td>\n",
              "      <td>68.88</td>\n",
              "      <td>2020-02-10 13:53:31</td>\n",
              "      <td>63</td>\n",
              "      <td>afternoon</td>\n",
              "      <td>Dry</td>\n",
              "      <td>n</td>\n",
              "      <td>Baby Boomers</td>\n",
              "    </tr>\n",
              "    <tr>\n",
              "      <th>1</th>\n",
              "      <td>3.520000e+15</td>\n",
              "      <td>M</td>\n",
              "      <td>Digos</td>\n",
              "      <td>169393</td>\n",
              "      <td>Administrator, charities/voluntary organisations</td>\n",
              "      <td>1970-08-31</td>\n",
              "      <td>968000000000</td>\n",
              "      <td>968000000000</td>\n",
              "      <td>060d12f91c13871a13963041736a4702</td>\n",
              "      <td>1590902968</td>\n",
              "      <td>entertainment</td>\n",
              "      <td>50.06</td>\n",
              "      <td>2020-05-31 13:29:28</td>\n",
              "      <td>51</td>\n",
              "      <td>afternoon</td>\n",
              "      <td>Dry</td>\n",
              "      <td>n</td>\n",
              "      <td>Gen X</td>\n",
              "    </tr>\n",
              "    <tr>\n",
              "      <th>2</th>\n",
              "      <td>4.140000e+18</td>\n",
              "      <td>M</td>\n",
              "      <td>Calapan</td>\n",
              "      <td>133893</td>\n",
              "      <td>Financial controller</td>\n",
              "      <td>1953-07-23</td>\n",
              "      <td>628000000000</td>\n",
              "      <td>628000000000</td>\n",
              "      <td>18aafb6098ab0923886c0ac83592ef8d</td>\n",
              "      <td>1585461157</td>\n",
              "      <td>food_dining</td>\n",
              "      <td>105.44</td>\n",
              "      <td>2020-03-29 13:52:37</td>\n",
              "      <td>68</td>\n",
              "      <td>afternoon</td>\n",
              "      <td>Dry</td>\n",
              "      <td>n</td>\n",
              "      <td>Baby Boomers</td>\n",
              "    </tr>\n",
              "    <tr>\n",
              "      <th>3</th>\n",
              "      <td>4.720000e+15</td>\n",
              "      <td>M</td>\n",
              "      <td>Laoag</td>\n",
              "      <td>111125</td>\n",
              "      <td>Dance movement psychotherapist</td>\n",
              "      <td>1954-01-11</td>\n",
              "      <td>257000000000</td>\n",
              "      <td>257000000000</td>\n",
              "      <td>c20ee88b451f637bc6893b7460e9fee0</td>\n",
              "      <td>1601282159</td>\n",
              "      <td>gas_transport</td>\n",
              "      <td>82.69</td>\n",
              "      <td>2020-09-28 16:35:59</td>\n",
              "      <td>67</td>\n",
              "      <td>afternoon</td>\n",
              "      <td>Rainy</td>\n",
              "      <td>n</td>\n",
              "      <td>Baby Boomers</td>\n",
              "    </tr>\n",
              "    <tr>\n",
              "      <th>4</th>\n",
              "      <td>3.530000e+15</td>\n",
              "      <td>M</td>\n",
              "      <td>City of Paranaque</td>\n",
              "      <td>665822</td>\n",
              "      <td>Engineer, water</td>\n",
              "      <td>1961-07-31</td>\n",
              "      <td>540000000000</td>\n",
              "      <td>540000000000</td>\n",
              "      <td>b389cc449c9c298e8c004024449f7a27</td>\n",
              "      <td>1594960430</td>\n",
              "      <td>shopping_net</td>\n",
              "      <td>363.49</td>\n",
              "      <td>2020-07-17 12:33:50</td>\n",
              "      <td>60</td>\n",
              "      <td>afternoon</td>\n",
              "      <td>Rainy</td>\n",
              "      <td>n</td>\n",
              "      <td>Baby Boomers</td>\n",
              "    </tr>\n",
              "  </tbody>\n",
              "</table>\n",
              "</div>\n",
              "    <div class=\"colab-df-buttons\">\n",
              "\n",
              "  <div class=\"colab-df-container\">\n",
              "    <button class=\"colab-df-convert\" onclick=\"convertToInteractive('df-0dc146dd-551e-41ce-bd86-66b211168b58')\"\n",
              "            title=\"Convert this dataframe to an interactive table.\"\n",
              "            style=\"display:none;\">\n",
              "\n",
              "  <svg xmlns=\"http://www.w3.org/2000/svg\" height=\"24px\" viewBox=\"0 -960 960 960\">\n",
              "    <path d=\"M120-120v-720h720v720H120Zm60-500h600v-160H180v160Zm220 220h160v-160H400v160Zm0 220h160v-160H400v160ZM180-400h160v-160H180v160Zm440 0h160v-160H620v160ZM180-180h160v-160H180v160Zm440 0h160v-160H620v160Z\"/>\n",
              "  </svg>\n",
              "    </button>\n",
              "\n",
              "  <style>\n",
              "    .colab-df-container {\n",
              "      display:flex;\n",
              "      gap: 12px;\n",
              "    }\n",
              "\n",
              "    .colab-df-convert {\n",
              "      background-color: #E8F0FE;\n",
              "      border: none;\n",
              "      border-radius: 50%;\n",
              "      cursor: pointer;\n",
              "      display: none;\n",
              "      fill: #1967D2;\n",
              "      height: 32px;\n",
              "      padding: 0 0 0 0;\n",
              "      width: 32px;\n",
              "    }\n",
              "\n",
              "    .colab-df-convert:hover {\n",
              "      background-color: #E2EBFA;\n",
              "      box-shadow: 0px 1px 2px rgba(60, 64, 67, 0.3), 0px 1px 3px 1px rgba(60, 64, 67, 0.15);\n",
              "      fill: #174EA6;\n",
              "    }\n",
              "\n",
              "    .colab-df-buttons div {\n",
              "      margin-bottom: 4px;\n",
              "    }\n",
              "\n",
              "    [theme=dark] .colab-df-convert {\n",
              "      background-color: #3B4455;\n",
              "      fill: #D2E3FC;\n",
              "    }\n",
              "\n",
              "    [theme=dark] .colab-df-convert:hover {\n",
              "      background-color: #434B5C;\n",
              "      box-shadow: 0px 1px 3px 1px rgba(0, 0, 0, 0.15);\n",
              "      filter: drop-shadow(0px 1px 2px rgba(0, 0, 0, 0.3));\n",
              "      fill: #FFFFFF;\n",
              "    }\n",
              "  </style>\n",
              "\n",
              "    <script>\n",
              "      const buttonEl =\n",
              "        document.querySelector('#df-0dc146dd-551e-41ce-bd86-66b211168b58 button.colab-df-convert');\n",
              "      buttonEl.style.display =\n",
              "        google.colab.kernel.accessAllowed ? 'block' : 'none';\n",
              "\n",
              "      async function convertToInteractive(key) {\n",
              "        const element = document.querySelector('#df-0dc146dd-551e-41ce-bd86-66b211168b58');\n",
              "        const dataTable =\n",
              "          await google.colab.kernel.invokeFunction('convertToInteractive',\n",
              "                                                    [key], {});\n",
              "        if (!dataTable) return;\n",
              "\n",
              "        const docLinkHtml = 'Like what you see? Visit the ' +\n",
              "          '<a target=\"_blank\" href=https://colab.research.google.com/notebooks/data_table.ipynb>data table notebook</a>'\n",
              "          + ' to learn more about interactive tables.';\n",
              "        element.innerHTML = '';\n",
              "        dataTable['output_type'] = 'display_data';\n",
              "        await google.colab.output.renderOutput(dataTable, element);\n",
              "        const docLink = document.createElement('div');\n",
              "        docLink.innerHTML = docLinkHtml;\n",
              "        element.appendChild(docLink);\n",
              "      }\n",
              "    </script>\n",
              "  </div>\n",
              "\n",
              "\n",
              "<div id=\"df-00ca1659-ff7d-4488-97c6-ec1c3d00361e\">\n",
              "  <button class=\"colab-df-quickchart\" onclick=\"quickchart('df-00ca1659-ff7d-4488-97c6-ec1c3d00361e')\"\n",
              "            title=\"Suggest charts\"\n",
              "            style=\"display:none;\">\n",
              "\n",
              "<svg xmlns=\"http://www.w3.org/2000/svg\" height=\"24px\"viewBox=\"0 0 24 24\"\n",
              "     width=\"24px\">\n",
              "    <g>\n",
              "        <path d=\"M19 3H5c-1.1 0-2 .9-2 2v14c0 1.1.9 2 2 2h14c1.1 0 2-.9 2-2V5c0-1.1-.9-2-2-2zM9 17H7v-7h2v7zm4 0h-2V7h2v10zm4 0h-2v-4h2v4z\"/>\n",
              "    </g>\n",
              "</svg>\n",
              "  </button>\n",
              "\n",
              "<style>\n",
              "  .colab-df-quickchart {\n",
              "      --bg-color: #E8F0FE;\n",
              "      --fill-color: #1967D2;\n",
              "      --hover-bg-color: #E2EBFA;\n",
              "      --hover-fill-color: #174EA6;\n",
              "      --disabled-fill-color: #AAA;\n",
              "      --disabled-bg-color: #DDD;\n",
              "  }\n",
              "\n",
              "  [theme=dark] .colab-df-quickchart {\n",
              "      --bg-color: #3B4455;\n",
              "      --fill-color: #D2E3FC;\n",
              "      --hover-bg-color: #434B5C;\n",
              "      --hover-fill-color: #FFFFFF;\n",
              "      --disabled-bg-color: #3B4455;\n",
              "      --disabled-fill-color: #666;\n",
              "  }\n",
              "\n",
              "  .colab-df-quickchart {\n",
              "    background-color: var(--bg-color);\n",
              "    border: none;\n",
              "    border-radius: 50%;\n",
              "    cursor: pointer;\n",
              "    display: none;\n",
              "    fill: var(--fill-color);\n",
              "    height: 32px;\n",
              "    padding: 0;\n",
              "    width: 32px;\n",
              "  }\n",
              "\n",
              "  .colab-df-quickchart:hover {\n",
              "    background-color: var(--hover-bg-color);\n",
              "    box-shadow: 0 1px 2px rgba(60, 64, 67, 0.3), 0 1px 3px 1px rgba(60, 64, 67, 0.15);\n",
              "    fill: var(--button-hover-fill-color);\n",
              "  }\n",
              "\n",
              "  .colab-df-quickchart-complete:disabled,\n",
              "  .colab-df-quickchart-complete:disabled:hover {\n",
              "    background-color: var(--disabled-bg-color);\n",
              "    fill: var(--disabled-fill-color);\n",
              "    box-shadow: none;\n",
              "  }\n",
              "\n",
              "  .colab-df-spinner {\n",
              "    border: 2px solid var(--fill-color);\n",
              "    border-color: transparent;\n",
              "    border-bottom-color: var(--fill-color);\n",
              "    animation:\n",
              "      spin 1s steps(1) infinite;\n",
              "  }\n",
              "\n",
              "  @keyframes spin {\n",
              "    0% {\n",
              "      border-color: transparent;\n",
              "      border-bottom-color: var(--fill-color);\n",
              "      border-left-color: var(--fill-color);\n",
              "    }\n",
              "    20% {\n",
              "      border-color: transparent;\n",
              "      border-left-color: var(--fill-color);\n",
              "      border-top-color: var(--fill-color);\n",
              "    }\n",
              "    30% {\n",
              "      border-color: transparent;\n",
              "      border-left-color: var(--fill-color);\n",
              "      border-top-color: var(--fill-color);\n",
              "      border-right-color: var(--fill-color);\n",
              "    }\n",
              "    40% {\n",
              "      border-color: transparent;\n",
              "      border-right-color: var(--fill-color);\n",
              "      border-top-color: var(--fill-color);\n",
              "    }\n",
              "    60% {\n",
              "      border-color: transparent;\n",
              "      border-right-color: var(--fill-color);\n",
              "    }\n",
              "    80% {\n",
              "      border-color: transparent;\n",
              "      border-right-color: var(--fill-color);\n",
              "      border-bottom-color: var(--fill-color);\n",
              "    }\n",
              "    90% {\n",
              "      border-color: transparent;\n",
              "      border-bottom-color: var(--fill-color);\n",
              "    }\n",
              "  }\n",
              "</style>\n",
              "\n",
              "  <script>\n",
              "    async function quickchart(key) {\n",
              "      const quickchartButtonEl =\n",
              "        document.querySelector('#' + key + ' button');\n",
              "      quickchartButtonEl.disabled = true;  // To prevent multiple clicks.\n",
              "      quickchartButtonEl.classList.add('colab-df-spinner');\n",
              "      try {\n",
              "        const charts = await google.colab.kernel.invokeFunction(\n",
              "            'suggestCharts', [key], {});\n",
              "      } catch (error) {\n",
              "        console.error('Error during call to suggestCharts:', error);\n",
              "      }\n",
              "      quickchartButtonEl.classList.remove('colab-df-spinner');\n",
              "      quickchartButtonEl.classList.add('colab-df-quickchart-complete');\n",
              "    }\n",
              "    (() => {\n",
              "      let quickchartButtonEl =\n",
              "        document.querySelector('#df-00ca1659-ff7d-4488-97c6-ec1c3d00361e button');\n",
              "      quickchartButtonEl.style.display =\n",
              "        google.colab.kernel.accessAllowed ? 'block' : 'none';\n",
              "    })();\n",
              "  </script>\n",
              "</div>\n",
              "    </div>\n",
              "  </div>\n"
            ],
            "application/vnd.google.colaboratory.intrinsic+json": {
              "type": "dataframe",
              "variable_name": "df",
              "summary": "{\n  \"name\": \"df\",\n  \"rows\": 92432,\n  \"fields\": [\n    {\n      \"column\": \"cc_num\",\n      \"properties\": {\n        \"dtype\": \"number\",\n        \"std\": 1.230137950607826e+18,\n        \"min\": 60490596305.0,\n        \"max\": 4.83e+18,\n        \"num_unique_values\": 69,\n        \"samples\": [\n          502000000000.0,\n          676000000000.0,\n          4.55e+18\n        ],\n        \"semantic_type\": \"\",\n        \"description\": \"\"\n      }\n    },\n    {\n      \"column\": \"gender\",\n      \"properties\": {\n        \"dtype\": \"category\",\n        \"num_unique_values\": 2,\n        \"samples\": [\n          \"F\",\n          \"M\"\n        ],\n        \"semantic_type\": \"\",\n        \"description\": \"\"\n      }\n    },\n    {\n      \"column\": \"city\",\n      \"properties\": {\n        \"dtype\": \"category\",\n        \"num_unique_values\": 59,\n        \"samples\": [\n          \"Dasmarinas\",\n          \"San Fernando\"\n        ],\n        \"semantic_type\": \"\",\n        \"description\": \"\"\n      }\n    },\n    {\n      \"column\": \"city_pop\",\n      \"properties\": {\n        \"dtype\": \"number\",\n        \"std\": 1926876,\n        \"min\": 41041,\n        \"max\": 23088000,\n        \"num_unique_values\": 60,\n        \"samples\": [\n          659019,\n          121812\n        ],\n        \"semantic_type\": \"\",\n        \"description\": \"\"\n      }\n    },\n    {\n      \"column\": \"job\",\n      \"properties\": {\n        \"dtype\": \"category\",\n        \"num_unique_values\": 90,\n        \"samples\": [\n          \"Clinical scientist, histocompatibility and immunogenetics\",\n          \"Psychotherapist\"\n        ],\n        \"semantic_type\": \"\",\n        \"description\": \"\"\n      }\n    },\n    {\n      \"column\": \"dob\",\n      \"properties\": {\n        \"dtype\": \"date\",\n        \"min\": \"1926-02-21 00:00:00\",\n        \"max\": \"1970-08-31 00:00:00\",\n        \"num_unique_values\": 93,\n        \"samples\": [\n          \"1970-04-02 00:00:00\",\n          \"1970-02-03 00:00:00\"\n        ],\n        \"semantic_type\": \"\",\n        \"description\": \"\"\n      }\n    },\n    {\n      \"column\": \"acct_num\",\n      \"properties\": {\n        \"dtype\": \"number\",\n        \"std\": 268405791035,\n        \"min\": 124000000000,\n        \"max\": 996400000000,\n        \"num_unique_values\": 94,\n        \"samples\": [\n          937000000000,\n          851000000000\n        ],\n        \"semantic_type\": \"\",\n        \"description\": \"\"\n      }\n    },\n    {\n      \"column\": \"acct_num2\",\n      \"properties\": {\n        \"dtype\": \"number\",\n        \"std\": 289154798604,\n        \"min\": 3843260959,\n        \"max\": 994000000000,\n        \"num_unique_values\": 89,\n        \"samples\": [\n          854000000000,\n          969000000000\n        ],\n        \"semantic_type\": \"\",\n        \"description\": \"\"\n      }\n    },\n    {\n      \"column\": \"trans_num\",\n      \"properties\": {\n        \"dtype\": \"string\",\n        \"num_unique_values\": 92432,\n        \"samples\": [\n          \"8665ea3bbf13b842e9ee447e32e0e7e9\",\n          \"a19296266b6dfee3f9fb7d1bf6befb30\"\n        ],\n        \"semantic_type\": \"\",\n        \"description\": \"\"\n      }\n    },\n    {\n      \"column\": \"unix_time\",\n      \"properties\": {\n        \"dtype\": \"number\",\n        \"std\": 17208009,\n        \"min\": 1577837175,\n        \"max\": 1638834642,\n        \"num_unique_values\": 92324,\n        \"samples\": [\n          1580429443,\n          1599351099\n        ],\n        \"semantic_type\": \"\",\n        \"description\": \"\"\n      }\n    },\n    {\n      \"column\": \"category\",\n      \"properties\": {\n        \"dtype\": \"category\",\n        \"num_unique_values\": 14,\n        \"samples\": [\n          \"misc_net\",\n          \"shopping_pos\"\n        ],\n        \"semantic_type\": \"\",\n        \"description\": \"\"\n      }\n    },\n    {\n      \"column\": \"amt\",\n      \"properties\": {\n        \"dtype\": \"number\",\n        \"std\": 178.1355745132489,\n        \"min\": 1.0,\n        \"max\": 16513.77,\n        \"num_unique_values\": 19463,\n        \"samples\": [\n          195.5,\n          182.31\n        ],\n        \"semantic_type\": \"\",\n        \"description\": \"\"\n      }\n    },\n    {\n      \"column\": \"trans_datetime\",\n      \"properties\": {\n        \"dtype\": \"date\",\n        \"min\": \"2020-01-01 08:06:15\",\n        \"max\": \"2021-12-07 07:50:42\",\n        \"num_unique_values\": 92324,\n        \"samples\": [\n          \"2020-01-31 08:10:43\",\n          \"2020-09-06 08:11:39\"\n        ],\n        \"semantic_type\": \"\",\n        \"description\": \"\"\n      }\n    },\n    {\n      \"column\": \"age\",\n      \"properties\": {\n        \"dtype\": \"number\",\n        \"std\": 10,\n        \"min\": 51,\n        \"max\": 95,\n        \"num_unique_values\": 35,\n        \"samples\": [\n          83,\n          64\n        ],\n        \"semantic_type\": \"\",\n        \"description\": \"\"\n      }\n    },\n    {\n      \"column\": \"time_of_day\",\n      \"properties\": {\n        \"dtype\": \"category\",\n        \"num_unique_values\": 3,\n        \"samples\": [\n          \"afternoon\",\n          \"evening\"\n        ],\n        \"semantic_type\": \"\",\n        \"description\": \"\"\n      }\n    },\n    {\n      \"column\": \"season\",\n      \"properties\": {\n        \"dtype\": \"category\",\n        \"num_unique_values\": 2,\n        \"samples\": [\n          \"Rainy\",\n          \"Dry\"\n        ],\n        \"semantic_type\": \"\",\n        \"description\": \"\"\n      }\n    },\n    {\n      \"column\": \"is_holiday\",\n      \"properties\": {\n        \"dtype\": \"category\",\n        \"num_unique_values\": 2,\n        \"samples\": [\n          \"y\",\n          \"n\"\n        ],\n        \"semantic_type\": \"\",\n        \"description\": \"\"\n      }\n    },\n    {\n      \"column\": \"age_bin\",\n      \"properties\": {\n        \"dtype\": \"category\",\n        \"num_unique_values\": 3,\n        \"samples\": [\n          \"Baby Boomers\",\n          \"Gen X\"\n        ],\n        \"semantic_type\": \"\",\n        \"description\": \"\"\n      }\n    }\n  ]\n}"
            }
          },
          "metadata": {},
          "execution_count": 24
        }
      ]
    },
    {
      "cell_type": "markdown",
      "source": [
        "## Online or Onsite"
      ],
      "metadata": {
        "id": "nI6bRFqROnHy"
      }
    },
    {
      "cell_type": "code",
      "source": [
        "df['category'].unique()\n",
        "online = ['shopping_net', 'travel', 'misc_net','grocery_net']\n",
        "onsite = ['entertainment', 'food_dining', 'gas_transport','home', 'kids_pets','personal_care', 'grocery_pos', 'health_fitness', 'shopping_pos', 'misc_pos']"
      ],
      "metadata": {
        "id": "5FWZVoODOtoy"
      },
      "execution_count": 139,
      "outputs": []
    },
    {
      "cell_type": "code",
      "source": [
        "df['category'].unique()"
      ],
      "metadata": {
        "colab": {
          "base_uri": "https://localhost:8080/"
        },
        "id": "HLWMCeSOPuW7",
        "outputId": "7ef81e16-2373-4bf0-c0d7-973e4110adaa"
      },
      "execution_count": 135,
      "outputs": [
        {
          "output_type": "execute_result",
          "data": {
            "text/plain": [
              "array(['shopping_net', 'entertainment', 'food_dining', 'gas_transport',\n",
              "       'home', 'kids_pets', nan, 'personal_care', 'grocery_pos', 'travel',\n",
              "       'misc_net', 'health_fitness', 'shopping_pos', 'misc_pos',\n",
              "       'grocery_net'], dtype=object)"
            ]
          },
          "metadata": {},
          "execution_count": 135
        }
      ]
    },
    {
      "cell_type": "code",
      "source": [
        "def get_online(category, online):\n",
        "    if category in online :\n",
        "        return 'online'\n",
        "    else:\n",
        "        return 'onsite'\n",
        "\n",
        "# Apply the function row-wise by using lambda to pass two columns\n",
        "df['is_online'] = df.apply(lambda row: get_online(row['category'], online), axis=1)"
      ],
      "metadata": {
        "id": "HEYX4U2oO3sC"
      },
      "execution_count": 145,
      "outputs": []
    },
    {
      "cell_type": "code",
      "source": [
        "df['is_online'].value_counts(normalize=True) *100"
      ],
      "metadata": {
        "colab": {
          "base_uri": "https://localhost:8080/"
        },
        "id": "5HNEW2JRQ8Hf",
        "outputId": "6290dfe4-6af0-436f-83d8-e991cdca7da2"
      },
      "execution_count": 149,
      "outputs": [
        {
          "output_type": "execute_result",
          "data": {
            "text/plain": [
              "is_online\n",
              "onsite    86.938506\n",
              "online    13.061494\n",
              "Name: proportion, dtype: float64"
            ]
          },
          "metadata": {},
          "execution_count": 149
        }
      ]
    },
    {
      "cell_type": "markdown",
      "source": [
        "## Holiday or Birthday\n",
        "\n",
        "---\n",
        "\n"
      ],
      "metadata": {
        "id": "S7FDeYBkSKYR"
      }
    },
    {
      "cell_type": "code",
      "source": [
        "def get_bday(trans_date, dob):\n",
        "    # Compare only the month and day parts\n",
        "    if trans_date.month == dob.month and trans_date.day == dob.day:\n",
        "        return 'birthday spending'\n",
        "    else:\n",
        "        return 'no'\n",
        "\n",
        "# Apply the function row-wise by using lambda to pass two columns\n",
        "df['is_birthday'] = df.apply(lambda row: get_bday(row['trans_datetime'], row['dob']), axis=1)"
      ],
      "metadata": {
        "id": "YZgvhsVi-b3d"
      },
      "execution_count": 93,
      "outputs": []
    },
    {
      "cell_type": "code",
      "source": [
        "holiday['date'].describe()"
      ],
      "metadata": {
        "colab": {
          "base_uri": "https://localhost:8080/"
        },
        "id": "SyKai8xNENk6",
        "outputId": "99a02740-cd3b-4c7c-83f3-21287ae0e13d"
      },
      "execution_count": 94,
      "outputs": [
        {
          "output_type": "execute_result",
          "data": {
            "text/plain": [
              "count                               70\n",
              "mean     2020-12-21 16:06:51.428571392\n",
              "min                2020-01-01 00:00:00\n",
              "25%                2020-06-14 06:00:00\n",
              "50%                2020-12-24 00:00:00\n",
              "75%                2021-05-07 00:00:00\n",
              "max                2021-12-31 00:00:00\n",
              "Name: date, dtype: object"
            ]
          },
          "metadata": {},
          "execution_count": 94
        }
      ]
    },
    {
      "cell_type": "code",
      "source": [
        "def get_hol_bday(row, holiday_dates):\n",
        "    trans_date = row['trans_datetime'].date()  # Extract date part\n",
        "    dob = row['dob'].date()  # Extract date part\n",
        "\n",
        "    # Check if the transaction date is the same as the date of birth (birthday)\n",
        "    if trans_date.month == dob.month and trans_date.day == dob.day:\n",
        "        return 'Birthday'\n",
        "    # Check if the transaction date matches any date in the holiday dates\n",
        "    elif trans_date in holiday_dates:\n",
        "        return 'Holiday'\n",
        "    else:\n",
        "        return 'No'\n",
        "\n",
        "# Convert holiday dates to datetime.date objects for consistency\n",
        "holiday_dates = [date.date() for date in holiday['date']]\n",
        "\n",
        "# Apply the function row-wise by using lambda to pass each row and holiday dates\n",
        "df['is_holi_bday'] = df.apply(lambda row: get_hol_bday(row, holiday_dates), axis=1)"
      ],
      "metadata": {
        "id": "wcMRJzaK5z6m"
      },
      "execution_count": 109,
      "outputs": []
    },
    {
      "cell_type": "code",
      "source": [
        "df['is_holi_bday'].value_counts(normalize=True) * 100"
      ],
      "metadata": {
        "colab": {
          "base_uri": "https://localhost:8080/"
        },
        "id": "dK6-PHxdBfje",
        "outputId": "fe177c6b-9a80-4ef1-e78d-03674e05a5a6"
      },
      "execution_count": 121,
      "outputs": [
        {
          "output_type": "execute_result",
          "data": {
            "text/plain": [
              "is_holi_bday\n",
              "No          90.665570\n",
              "Holiday      9.020685\n",
              "Birthday     0.313744\n",
              "Name: proportion, dtype: float64"
            ]
          },
          "metadata": {},
          "execution_count": 121
        }
      ]
    },
    {
      "cell_type": "markdown",
      "source": [
        "## Holiday or  Birthday Week"
      ],
      "metadata": {
        "id": "oKBVA1wdKkhK"
      }
    },
    {
      "cell_type": "code",
      "source": [
        "def get_hb_week(row, holiday_dates):\n",
        "    trans_date = row['trans_datetime'].date()  # Extract date part\n",
        "    dob = row['dob'].date()  # Extract date part\n",
        "\n",
        "    # Define the start and end dates for the birthday week\n",
        "    birthday_start = dob - datetime.timedelta(days=2)\n",
        "    birthday_end = dob\n",
        "    # Check if the transaction date falls within the birthday week\n",
        "    if birthday_start <= trans_date <= birthday_end:\n",
        "        return 'Yes'\n",
        "    for holiday_date in holiday_dates:\n",
        "        holiday_start = holiday_date - datetime.timedelta(days=2)\n",
        "        holiday_end = holiday_date\n",
        "        if holiday_start <= trans_date <= holiday_end:\n",
        "            return 'Yes'\n",
        "        elif trans_date == holiday_date:\n",
        "            return 'Yes'\n",
        "\n",
        "    return 'No'\n",
        "\n",
        "# Convert holiday dates to datetime.date objects for consistency\n",
        "holiday_dates = [date.date() for date in holiday['date']]\n",
        "\n",
        "# Apply the function row-wise by using lambda to pass each row and holiday dates\n",
        "df['is_hb_week'] = df.apply(lambda row: get_hb_week(row, holiday_dates), axis=1)"
      ],
      "metadata": {
        "id": "f8fHdwZ8J20E"
      },
      "execution_count": 187,
      "outputs": []
    },
    {
      "cell_type": "code",
      "source": [
        "df['is_hb_week'].value_counts(normalize=True) * 100"
      ],
      "metadata": {
        "colab": {
          "base_uri": "https://localhost:8080/"
        },
        "id": "vGOGZC3LLgsb",
        "outputId": "15aca424-5d8b-4aa6-9d47-e595fdcb05bd"
      },
      "execution_count": 188,
      "outputs": [
        {
          "output_type": "execute_result",
          "data": {
            "text/plain": [
              "is_hb_week\n",
              "No     78.351653\n",
              "Yes    21.648347\n",
              "Name: proportion, dtype: float64"
            ]
          },
          "metadata": {},
          "execution_count": 188
        }
      ]
    },
    {
      "cell_type": "markdown",
      "source": [
        "### Visualizing"
      ],
      "metadata": {
        "id": "o4-SDUASN_ba"
      }
    },
    {
      "cell_type": "markdown",
      "source": [
        "### Total Volume\n"
      ],
      "metadata": {
        "id": "7nrD9nBCVK3Z"
      }
    },
    {
      "cell_type": "code",
      "source": [
        "df.groupby('time_of_day').size().sort_values(ascending=True)"
      ],
      "metadata": {
        "id": "Ku6hk8oUWCIH"
      },
      "execution_count": null,
      "outputs": []
    },
    {
      "cell_type": "code",
      "source": [
        "grouped_hbw_vol = df.groupby(['is_hb_week', 'is_online']).size()\n",
        "grouped_hbw_vol = grouped_hbw_vol.unstack()\n",
        "\n",
        "grouped_hbw_vol.plot(kind='barh', stacked=True, color=sns.color_palette(\"Pastel2\",3))\n",
        "\n",
        "# Remove top and right spines\n",
        "ax = plt.gca()\n",
        "for spine in ['top', 'right']:\n",
        "    ax.spines[spine].set_visible(False)\n",
        "\n",
        "# Add labels and title\n",
        "plt.xlabel('Total Transaction Volume')\n",
        "plt.ylabel('Holiday or Birthday Week')\n",
        "plt.title('Transaction Volume by Holiday/Birthday Week')\n",
        "plt.legend(title='Legend')"
      ],
      "metadata": {
        "colab": {
          "base_uri": "https://localhost:8080/",
          "height": 489
        },
        "id": "iT5QkDRdVKjG",
        "outputId": "660ee8fd-3280-4ceb-8cef-b785f4b27743"
      },
      "execution_count": 189,
      "outputs": [
        {
          "output_type": "execute_result",
          "data": {
            "text/plain": [
              "<matplotlib.legend.Legend at 0x78e0d6d6c430>"
            ]
          },
          "metadata": {},
          "execution_count": 189
        },
        {
          "output_type": "display_data",
          "data": {
            "text/plain": [
              "<Figure size 640x480 with 1 Axes>"
            ],
            "image/png": "[encoded data removed]"
          },
          "metadata": {}
        }
      ]
    },
    {
      "cell_type": "markdown",
      "source": [
        "### Total Spending"
      ],
      "metadata": {
        "id": "LGT-92-UUgrc"
      }
    },
    {
      "cell_type": "code",
      "source": [
        "grouped_hbw_total = df.groupby(['is_hb_week', 'is_online'])['amt'].sum()/1000\n",
        "grouped_hbw_total = grouped_hbw_total.unstack()\n",
        "\n",
        "grouped_hbw_total.plot(kind='barh', stacked=True, color=sns.color_palette(\"Pastel2\",3))\n",
        "\n",
        "# Remove top and right spines\n",
        "ax = plt.gca()\n",
        "for spine in ['top', 'right']:\n",
        "    ax.spines[spine].set_visible(False)\n",
        "\n",
        "# Add labels and title\n",
        "plt.xlabel('in thousand USD')\n",
        "plt.ylabel('Holiday or Birthday Week')\n",
        "plt.title('Transaction Amount by Holiday/Birthday Week')\n",
        "plt.legend(title='Legend')"
      ],
      "metadata": {
        "colab": {
          "base_uri": "https://localhost:8080/",
          "height": 489
        },
        "id": "SMUBs5PBUaNE",
        "outputId": "75c184c1-6df7-469e-c98f-03282d32bb5a"
      },
      "execution_count": 190,
      "outputs": [
        {
          "output_type": "execute_result",
          "data": {
            "text/plain": [
              "<matplotlib.legend.Legend at 0x78e0d700d330>"
            ]
          },
          "metadata": {},
          "execution_count": 190
        },
        {
          "output_type": "display_data",
          "data": {
            "text/plain": [
              "<Figure size 640x480 with 1 Axes>"
            ],
            "image/png": "[encoded data removed]"
          },
          "metadata": {}
        }
      ]
    },
    {
      "cell_type": "markdown",
      "source": [
        "### Average Spending"
      ],
      "metadata": {
        "id": "Fe9jKH3PUasS"
      }
    },
    {
      "cell_type": "code",
      "source": [
        "grouped_hbw_ave = df.groupby(['is_hb_week', 'is_online'])['amt'].mean()\n",
        "\n",
        "grouped_hbw_ave.plot(kind='barh', stacked=True, color=sns.color_palette(\"Pastel2\", 5))\n",
        "\n",
        "# Remove top and right spines\n",
        "ax = plt.gca()\n",
        "for spine in ['top', 'right']:\n",
        "    ax.spines[spine].set_visible(False)\n",
        "\n",
        "# Add labels and title\n",
        "plt.xlabel('in thousand USD')\n",
        "plt.ylabel('Holiday or Birthday Week')\n",
        "plt.title('Transaction Amount by Holiday/Birthday Week')"
      ],
      "metadata": {
        "colab": {
          "base_uri": "https://localhost:8080/",
          "height": 489
        },
        "id": "JqMZwSFkOCNC",
        "outputId": "723b6d05-cb56-4321-b52f-6c5e4d12e82d"
      },
      "execution_count": 191,
      "outputs": [
        {
          "output_type": "execute_result",
          "data": {
            "text/plain": [
              "Text(0.5, 1.0, 'Transaction Amount by Holiday/Birthday Week')"
            ]
          },
          "metadata": {},
          "execution_count": 191
        },
        {
          "output_type": "display_data",
          "data": {
            "text/plain": [
              "<Figure size 640x480 with 1 Axes>"
            ],
            "image/png": "[encoded data removed]"
          },
          "metadata": {}
        }
      ]
    },
    {
      "cell_type": "markdown",
      "source": [
        "## Adulthood Phase\n",
        "* Early adulthood (18–39)\n",
        "* Middle adulthood (40–59)\n",
        "* Young old (60–75)\n",
        "* Old old (75 and up)"
      ],
      "metadata": {
        "id": "mw3BlHcTTSyb"
      }
    },
    {
      "cell_type": "code",
      "source": [
        "bins = [-np.Inf,17,39,59,75,np.Inf]\n",
        "labels = [\"MINORS\",\"EARLY_ADULTHOOD\",\"MIDDLE_ADULTHOOD\",\"YOUNG_OLD\",\"OLD_OLD\"]\n",
        "\n",
        "df[\"age_group\"] = pd.cut(df['age'],\n",
        "                        bins=bins,\n",
        "                        labels=labels,\n",
        "                        right=True) #Silent: (-inf,1945], BabyB: (1945,1964]"
      ],
      "metadata": {
        "id": "WvMi--QVTTtE"
      },
      "execution_count": 126,
      "outputs": []
    },
    {
      "cell_type": "code",
      "source": [
        "df['trans_datetime'].min(),df['trans_datetime'].max()"
      ],
      "metadata": {
        "colab": {
          "base_uri": "https://localhost:8080/"
        },
        "id": "ErV7hwCjWjBM",
        "outputId": "5f4d2418-e45f-4546-9150-42e3aea5b496"
      },
      "execution_count": 127,
      "outputs": [
        {
          "output_type": "execute_result",
          "data": {
            "text/plain": [
              "(Timestamp('2020-01-01 08:06:15'), Timestamp('2021-12-07 07:50:42'))"
            ]
          },
          "metadata": {},
          "execution_count": 127
        }
      ]
    },
    {
      "cell_type": "markdown",
      "source": [
        "## Time of Day\n",
        "* Early Morning: 12:00 AM - 6:00 AM\n",
        "* Morning: 6:00 AM - 11:00 AM\n",
        "* Afternoon: 11:00 AM - 5:00 PM\n",
        "* Evening: 5:00 PM - 9:00 PM\n",
        "* Late Night: 9:00 PM - 12:00 AM\n"
      ],
      "metadata": {
        "id": "s7kxuooJWieD"
      }
    },
    {
      "cell_type": "code",
      "source": [
        "def get_time_of_day(hour):\n",
        "    if hour < 6:\n",
        "        return 'early morning'\n",
        "    elif hour < 12:\n",
        "        return 'morning'\n",
        "    elif hour < 17:\n",
        "        return 'afternoon'\n",
        "    elif hour < 21:\n",
        "        return 'evening'\n",
        "    else:\n",
        "        return 'late night'"
      ],
      "metadata": {
        "id": "kM0hq7y4Wi-h"
      },
      "execution_count": 125,
      "outputs": []
    },
    {
      "cell_type": "code",
      "source": [
        "df['time_of_day'] = (df['trans_datetime'].dt.hour).apply(get_time_of_day)\n",
        "df['time_of_day'].value_counts(normalize=True) *100"
      ],
      "metadata": {
        "id": "WfnrClyTWi7c",
        "colab": {
          "base_uri": "https://localhost:8080/"
        },
        "outputId": "1923f420-6f4f-48e9-9b05-806002cea43b"
      },
      "execution_count": 126,
      "outputs": [
        {
          "output_type": "execute_result",
          "data": {
            "text/plain": [
              "time_of_day\n",
              "morning          26.850009\n",
              "afternoon        24.859356\n",
              "early morning    20.154276\n",
              "evening          18.176606\n",
              "late night        9.959754\n",
              "Name: proportion, dtype: float64"
            ]
          },
          "metadata": {},
          "execution_count": 126
        }
      ]
    },
    {
      "cell_type": "markdown",
      "source": [
        "### Visualizing"
      ],
      "metadata": {
        "id": "nnbGZ-89tylR"
      }
    },
    {
      "cell_type": "code",
      "source": [
        "df.groupby('time_of_day').size().sort_values(ascending=True).plot(kind='barh', color = sns.color_palette(\"ch:rot=-.25,hue=1,dark=.75\"))\n",
        "plt.gca().spines[['top', 'right',]].set_visible(False)\n",
        "\n",
        "# Add labels and title\n",
        "plt.xlabel('Transaction Volume')\n",
        "plt.ylabel('')\n",
        "plt.title('Transaction Volume by Time of Day')"
      ],
      "metadata": {
        "colab": {
          "base_uri": "https://localhost:8080/",
          "height": 489
        },
        "id": "tQVMnMmHt0iG",
        "outputId": "35ec63bd-4ff7-4d9c-e50c-a978ad77b64d"
      },
      "execution_count": 127,
      "outputs": [
        {
          "output_type": "execute_result",
          "data": {
            "text/plain": [
              "Text(0.5, 1.0, 'Transaction Volume by Time of Day')"
            ]
          },
          "metadata": {},
          "execution_count": 127
        },
        {
          "output_type": "display_data",
          "data": {
            "text/plain": [
              "<Figure size 640x480 with 1 Axes>"
            ],
            "image/png": "[encoded data removed]"
          },
          "metadata": {}
        }
      ]
    },
    {
      "cell_type": "code",
      "source": [
        "amount_tod = df.groupby('time_of_day')['amt'].sum()/1000\n",
        "\n",
        "amount_tod.sort_values(ascending=True).plot(kind='barh', color = sns.color_palette(\"ch:rot=-.35,hue=1,dark=.75\"))\n",
        "plt.gca().spines[['top', 'right',]].set_visible(False)\n",
        "\n",
        "# Add labels and title\n",
        "plt.xlabel('in thousands of USD')\n",
        "plt.ylabel('')\n",
        "plt.title('Transaction Amount by Time of Day')"
      ],
      "metadata": {
        "colab": {
          "base_uri": "https://localhost:8080/",
          "height": 489
        },
        "id": "tIKuROegu5ek",
        "outputId": "8bacac4c-fe10-4336-94f9-e29d301bb5bc"
      },
      "execution_count": 128,
      "outputs": [
        {
          "output_type": "execute_result",
          "data": {
            "text/plain": [
              "Text(0.5, 1.0, 'Transaction Amount by Time of Day')"
            ]
          },
          "metadata": {},
          "execution_count": 128
        },
        {
          "output_type": "display_data",
          "data": {
            "text/plain": [
              "<Figure size 640x480 with 1 Axes>"
            ],
            "image/png": "[encoded data removed]"
          },
          "metadata": {}
        }
      ]
    },
    {
      "cell_type": "code",
      "source": [],
      "metadata": {
        "id": "wUQ4sY1FKZ3-"
      },
      "execution_count": 128,
      "outputs": []
    },
    {
      "cell_type": "code",
      "source": [
        "grouped_tod = df.groupby(['time_of_day', 'age_group'])['amt'].sum().unstack()\n",
        "\n",
        "y_order = ['early morning','morning', 'afternoon', 'evening', 'late night']\n",
        "grouped_tod = grouped_tod.loc[y_order]\n",
        "\n",
        "grouped_tod.plot(kind='barh', stacked=True, color=sns.color_palette(\"Pastel2\",3)).invert_yaxis()\n",
        "\n",
        "# Remove top and right spines\n",
        "ax = plt.gca()\n",
        "for spine in ['top', 'right']:\n",
        "    ax.spines[spine].set_visible(False)\n",
        "\n",
        "# Add labels and title\n",
        "plt.xlabel('Time of Day')\n",
        "plt.ylabel('Total Transaction Amount')\n",
        "plt.title('Total Transaction Amount by Time of Day')\n",
        "\n",
        "# Remove specific labels from the legend\n",
        "handles, labels = ax.get_legend_handles_labels()\n",
        "to_remove = ['MINORS','EARLY_ADULTHOOD']  # Labels to remove from the legend\n",
        "handles = [h for h, label in zip(handles, labels) if label not in to_remove]\n",
        "labels = [label for label in labels if label not in to_remove]\n",
        "ax.legend(handles, labels, title='Legend')"
      ],
      "metadata": {
        "colab": {
          "base_uri": "https://localhost:8080/",
          "height": 373
        },
        "id": "ecORltk1z_k2",
        "outputId": "16c9009f-3e77-4b6e-82f3-e6f111ab4d2c"
      },
      "execution_count": 129,
      "outputs": [
        {
          "output_type": "error",
          "ename": "KeyError",
          "evalue": "'age_group'",
          "traceback": [
            "\u001b[0;31m---------------------------------------------------------------------------\u001b[0m",
            "\u001b[0;31mKeyError\u001b[0m                                  Traceback (most recent call last)",
            "\u001b[0;32m<ipython-input-129-c03f51641d5d>\u001b[0m in \u001b[0;36m<cell line: 1>\u001b[0;34m()\u001b[0m\n\u001b[0;32m----> 1\u001b[0;31m \u001b[0mgrouped_tod\u001b[0m \u001b[0;34m=\u001b[0m \u001b[0mdf\u001b[0m\u001b[0;34m.\u001b[0m\u001b[0mgroupby\u001b[0m\u001b[0;34m(\u001b[0m\u001b[0;34m[\u001b[0m\u001b[0;34m'time_of_day'\u001b[0m\u001b[0;34m,\u001b[0m \u001b[0;34m'age_group'\u001b[0m\u001b[0;34m]\u001b[0m\u001b[0;34m)\u001b[0m\u001b[0;34m[\u001b[0m\u001b[0;34m'amt'\u001b[0m\u001b[0;34m]\u001b[0m\u001b[0;34m.\u001b[0m\u001b[0msum\u001b[0m\u001b[0;34m(\u001b[0m\u001b[0;34m)\u001b[0m\u001b[0;34m.\u001b[0m\u001b[0munstack\u001b[0m\u001b[0;34m(\u001b[0m\u001b[0;34m)\u001b[0m\u001b[0;34m\u001b[0m\u001b[0;34m\u001b[0m\u001b[0m\n\u001b[0m\u001b[1;32m      2\u001b[0m \u001b[0;34m\u001b[0m\u001b[0m\n\u001b[1;32m      3\u001b[0m \u001b[0my_order\u001b[0m \u001b[0;34m=\u001b[0m \u001b[0;34m[\u001b[0m\u001b[0;34m'early morning'\u001b[0m\u001b[0;34m,\u001b[0m\u001b[0;34m'morning'\u001b[0m\u001b[0;34m,\u001b[0m \u001b[0;34m'afternoon'\u001b[0m\u001b[0;34m,\u001b[0m \u001b[0;34m'evening'\u001b[0m\u001b[0;34m,\u001b[0m \u001b[0;34m'late night'\u001b[0m\u001b[0;34m]\u001b[0m\u001b[0;34m\u001b[0m\u001b[0;34m\u001b[0m\u001b[0m\n\u001b[1;32m      4\u001b[0m \u001b[0mgrouped_tod\u001b[0m \u001b[0;34m=\u001b[0m \u001b[0mgrouped_tod\u001b[0m\u001b[0;34m.\u001b[0m\u001b[0mloc\u001b[0m\u001b[0;34m[\u001b[0m\u001b[0my_order\u001b[0m\u001b[0;34m]\u001b[0m\u001b[0;34m\u001b[0m\u001b[0;34m\u001b[0m\u001b[0m\n\u001b[1;32m      5\u001b[0m \u001b[0;34m\u001b[0m\u001b[0m\n",
            "\u001b[0;32m/usr/local/lib/python3.10/dist-packages/pandas/core/frame.py\u001b[0m in \u001b[0;36mgroupby\u001b[0;34m(self, by, axis, level, as_index, sort, group_keys, observed, dropna)\u001b[0m\n\u001b[1;32m   8250\u001b[0m         \u001b[0maxis\u001b[0m \u001b[0;34m=\u001b[0m \u001b[0mself\u001b[0m\u001b[0;34m.\u001b[0m\u001b[0m_get_axis_number\u001b[0m\u001b[0;34m(\u001b[0m\u001b[0maxis\u001b[0m\u001b[0;34m)\u001b[0m\u001b[0;34m\u001b[0m\u001b[0;34m\u001b[0m\u001b[0m\n\u001b[1;32m   8251\u001b[0m \u001b[0;34m\u001b[0m\u001b[0m\n\u001b[0;32m-> 8252\u001b[0;31m         return DataFrameGroupBy(\n\u001b[0m\u001b[1;32m   8253\u001b[0m             \u001b[0mobj\u001b[0m\u001b[0;34m=\u001b[0m\u001b[0mself\u001b[0m\u001b[0;34m,\u001b[0m\u001b[0;34m\u001b[0m\u001b[0;34m\u001b[0m\u001b[0m\n\u001b[1;32m   8254\u001b[0m             \u001b[0mkeys\u001b[0m\u001b[0;34m=\u001b[0m\u001b[0mby\u001b[0m\u001b[0;34m,\u001b[0m\u001b[0;34m\u001b[0m\u001b[0;34m\u001b[0m\u001b[0m\n",
            "\u001b[0;32m/usr/local/lib/python3.10/dist-packages/pandas/core/groupby/groupby.py\u001b[0m in \u001b[0;36m__init__\u001b[0;34m(self, obj, keys, axis, level, grouper, exclusions, selection, as_index, sort, group_keys, observed, dropna)\u001b[0m\n\u001b[1;32m    929\u001b[0m \u001b[0;34m\u001b[0m\u001b[0m\n\u001b[1;32m    930\u001b[0m         \u001b[0;32mif\u001b[0m \u001b[0mgrouper\u001b[0m \u001b[0;32mis\u001b[0m \u001b[0;32mNone\u001b[0m\u001b[0;34m:\u001b[0m\u001b[0;34m\u001b[0m\u001b[0;34m\u001b[0m\u001b[0m\n\u001b[0;32m--> 931\u001b[0;31m             grouper, exclusions, obj = get_grouper(\n\u001b[0m\u001b[1;32m    932\u001b[0m                 \u001b[0mobj\u001b[0m\u001b[0;34m,\u001b[0m\u001b[0;34m\u001b[0m\u001b[0;34m\u001b[0m\u001b[0m\n\u001b[1;32m    933\u001b[0m                 \u001b[0mkeys\u001b[0m\u001b[0;34m,\u001b[0m\u001b[0;34m\u001b[0m\u001b[0;34m\u001b[0m\u001b[0m\n",
            "\u001b[0;32m/usr/local/lib/python3.10/dist-packages/pandas/core/groupby/grouper.py\u001b[0m in \u001b[0;36mget_grouper\u001b[0;34m(obj, key, axis, level, sort, observed, validate, dropna)\u001b[0m\n\u001b[1;32m    983\u001b[0m                 \u001b[0min_axis\u001b[0m\u001b[0;34m,\u001b[0m \u001b[0mlevel\u001b[0m\u001b[0;34m,\u001b[0m \u001b[0mgpr\u001b[0m \u001b[0;34m=\u001b[0m \u001b[0;32mFalse\u001b[0m\u001b[0;34m,\u001b[0m \u001b[0mgpr\u001b[0m\u001b[0;34m,\u001b[0m \u001b[0;32mNone\u001b[0m\u001b[0;34m\u001b[0m\u001b[0;34m\u001b[0m\u001b[0m\n\u001b[1;32m    984\u001b[0m             \u001b[0;32melse\u001b[0m\u001b[0;34m:\u001b[0m\u001b[0;34m\u001b[0m\u001b[0;34m\u001b[0m\u001b[0m\n\u001b[0;32m--> 985\u001b[0;31m                 \u001b[0;32mraise\u001b[0m \u001b[0mKeyError\u001b[0m\u001b[0;34m(\u001b[0m\u001b[0mgpr\u001b[0m\u001b[0;34m)\u001b[0m\u001b[0;34m\u001b[0m\u001b[0;34m\u001b[0m\u001b[0m\n\u001b[0m\u001b[1;32m    986\u001b[0m         \u001b[0;32melif\u001b[0m \u001b[0misinstance\u001b[0m\u001b[0;34m(\u001b[0m\u001b[0mgpr\u001b[0m\u001b[0;34m,\u001b[0m \u001b[0mGrouper\u001b[0m\u001b[0;34m)\u001b[0m \u001b[0;32mand\u001b[0m \u001b[0mgpr\u001b[0m\u001b[0;34m.\u001b[0m\u001b[0mkey\u001b[0m \u001b[0;32mis\u001b[0m \u001b[0;32mnot\u001b[0m \u001b[0;32mNone\u001b[0m\u001b[0;34m:\u001b[0m\u001b[0;34m\u001b[0m\u001b[0;34m\u001b[0m\u001b[0m\n\u001b[1;32m    987\u001b[0m             \u001b[0;31m# Add key to exclusions\u001b[0m\u001b[0;34m\u001b[0m\u001b[0;34m\u001b[0m\u001b[0m\n",
            "\u001b[0;31mKeyError\u001b[0m: 'age_group'"
          ]
        }
      ]
    },
    {
      "cell_type": "code",
      "source": [
        "grouped_atod = df.groupby(['time_of_day', 'age_group'])['amt'].sum().unstack()\n",
        "\n",
        "grouped_atod.plot(kind='barh', stacked=True, color=sns.color_palette(\"Pastel2\",3))\n",
        "\n",
        "# Remove top and right spines\n",
        "ax = plt.gca()\n",
        "for spine in ['top', 'right']:\n",
        "    ax.spines[spine].set_visible(False)\n",
        "\n",
        "# Add labels and title\n",
        "plt.xlabel('Time of Day')\n",
        "plt.ylabel('Total Transaction Amount')\n",
        "plt.title('Total Transaction Amount by Time of Day')\n",
        "\n",
        "# Remove specific labels from the legend\n",
        "handles, labels = ax.get_legend_handles_labels()\n",
        "to_remove = ['MINORS','EARLY_ADULTHOOD']  # Labels to remove from the legend\n",
        "handles = [h for h, label in zip(handles, labels) if label not in to_remove]\n",
        "labels = [label for label in labels if label not in to_remove]\n",
        "ax.legend(handles, labels, title='Legend')"
      ],
      "metadata": {
        "id": "UpM-V9737_0R"
      },
      "execution_count": null,
      "outputs": []
    },
    {
      "cell_type": "markdown",
      "source": [
        "## Working Hours or Not"
      ],
      "metadata": {
        "id": "E97urD9CclK3"
      }
    },
    {
      "cell_type": "code",
      "source": [
        "def get_workhours(hour):\n",
        "    if 8 <= hour <= 18:\n",
        "        return 'Within Workhours'\n",
        "    else:\n",
        "        return 'Not Workhours'"
      ],
      "metadata": {
        "id": "c1hr2RdPcyuZ"
      },
      "execution_count": 29,
      "outputs": []
    },
    {
      "cell_type": "code",
      "source": [
        "df['is_workhours'] = (df['trans_datetime'].dt.hour).apply(get_workhours)\n",
        "df['is_workhours'].value_counts(normalize=True)"
      ],
      "metadata": {
        "colab": {
          "base_uri": "https://localhost:8080/"
        },
        "id": "hk1B5bCYcySY",
        "outputId": "d9759171-4a57-43e4-9716-395ed96024bc"
      },
      "execution_count": 30,
      "outputs": [
        {
          "output_type": "execute_result",
          "data": {
            "text/plain": [
              "is_workhours\n",
              "Within Workhours    0.547375\n",
              "Not Workhours       0.452625\n",
              "Name: proportion, dtype: float64"
            ]
          },
          "metadata": {},
          "execution_count": 30
        }
      ]
    },
    {
      "cell_type": "markdown",
      "source": [
        "### Visualizing"
      ],
      "metadata": {
        "id": "z6RAuUves8Uj"
      }
    },
    {
      "cell_type": "code",
      "source": [
        "df.groupby('is_workhours').size().plot(kind='barh', color = sns.color_palette(\"ch:rot=-.25,hue=1,dark=.75\"))\n",
        "plt.gca().spines[['top', 'right',]].set_visible(False)\n",
        "\n",
        "# Add labels and title\n",
        "plt.xlabel('Transaction Volume')\n",
        "plt.ylabel('')\n",
        "plt.title('Transaction Volume per Hour')"
      ],
      "metadata": {
        "colab": {
          "base_uri": "https://localhost:8080/",
          "height": 489
        },
        "id": "QuGaxS_5niyO",
        "outputId": "095cd13c-9096-41f5-880a-afc2ac5977a8"
      },
      "execution_count": 31,
      "outputs": [
        {
          "output_type": "execute_result",
          "data": {
            "text/plain": [
              "Text(0.5, 1.0, 'Transaction Volume per Hour')"
            ]
          },
          "metadata": {},
          "execution_count": 31
        },
        {
          "output_type": "display_data",
          "data": {
            "text/plain": [
              "<Figure size 640x480 with 1 Axes>"
            ],
            "image/png": "[encoded data removed]"
          },
          "metadata": {}
        }
      ]
    },
    {
      "cell_type": "code",
      "source": [
        "df"
      ],
      "metadata": {
        "colab": {
          "base_uri": "https://localhost:8080/",
          "height": 634
        },
        "id": "QgYgUnCxR2jZ",
        "outputId": "f9b84084-a608-4817-e2c4-98ac8f5642cf"
      },
      "execution_count": 114,
      "outputs": [
        {
          "output_type": "execute_result",
          "data": {
            "text/plain": [
              "             cc_num gender               city  city_pop  \\\n",
              "0      6.760000e+11      M         Dasmarinas    659019   \n",
              "1      3.520000e+15      M              Digos    169393   \n",
              "2      4.140000e+18      M            Calapan    133893   \n",
              "3      4.720000e+15      M              Laoag    111125   \n",
              "4      3.530000e+15      M  City of Paranaque    665822   \n",
              "...             ...    ...                ...       ...   \n",
              "92427  3.530000e+15      M         Dasmarinas    659019   \n",
              "92428  2.470000e+15      M       San Fernando    306659   \n",
              "92429  3.520000e+15      M            Masbate     95389   \n",
              "92430  4.620000e+15      M       San Fernando    121812   \n",
              "92431  3.800000e+13      M    City of Isabela    112788   \n",
              "\n",
              "                                                    job        dob  \\\n",
              "0                               Chartered loss adjuster 1958-12-12   \n",
              "1      Administrator, charities/voluntary organisations 1970-08-31   \n",
              "2                                  Financial controller 1953-07-23   \n",
              "3                        Dance movement psychotherapist 1954-01-11   \n",
              "4                                       Engineer, water 1961-07-31   \n",
              "...                                                 ...        ...   \n",
              "92427                                Physicist, medical 1965-03-26   \n",
              "92428                                Surveyor, quantity 1935-11-01   \n",
              "92429                                Wellsite geologist 1967-11-20   \n",
              "92430                                 Personnel officer 1934-11-20   \n",
              "92431                   Sport and exercise psychologist 1967-03-04   \n",
              "\n",
              "           acct_num     acct_num2                         trans_num  \\\n",
              "0      798000000000  798000000000  a72eaa86b043eed95b25bbb25b3153a1   \n",
              "1      968000000000  968000000000  060d12f91c13871a13963041736a4702   \n",
              "2      628000000000  628000000000  18aafb6098ab0923886c0ac83592ef8d   \n",
              "3      257000000000  257000000000  c20ee88b451f637bc6893b7460e9fee0   \n",
              "4      540000000000  540000000000  b389cc449c9c298e8c004024449f7a27   \n",
              "...             ...           ...                               ...   \n",
              "92427  201000000000  201000000000  4f77498d91283c4910a636b2e8149dda   \n",
              "92428  581100000000  581000000000  d44f411eabd406a76a60546e723a98fd   \n",
              "92429  531000000000  531000000000  7e767a74cae901c13f1a9d1d37aa63d4   \n",
              "92430  555000000000  555000000000  6ced184c93e66028e8d235ad3060de90   \n",
              "92431  378000000000  378000000000  67f47400873e964e10e029050dbe1fee   \n",
              "\n",
              "        unix_time  ...     amt      trans_datetime age    time_of_day season  \\\n",
              "0      1581314011  ...   68.88 2020-02-10 13:53:31  63      afternoon    Dry   \n",
              "1      1590902968  ...   50.06 2020-05-31 13:29:28  51      afternoon    Dry   \n",
              "2      1585461157  ...  105.44 2020-03-29 13:52:37  68      afternoon    Dry   \n",
              "3      1601282159  ...   82.69 2020-09-28 16:35:59  67      afternoon  Rainy   \n",
              "4      1594960430  ...  363.49 2020-07-17 12:33:50  60      afternoon  Rainy   \n",
              "...           ...  ...     ...                 ...  ..            ...    ...   \n",
              "92427  1587273415  ...    6.54 2020-04-19 13:16:55  56      afternoon    Dry   \n",
              "92428  1628185569  ...   98.23 2021-08-06 01:46:09  86  early morning  Rainy   \n",
              "92429  1621481285  ...   78.79 2021-05-20 11:28:05  54        morning    Dry   \n",
              "92430  1625341374  ...   31.37 2021-07-04 03:42:54  87  early morning  Rainy   \n",
              "92431  1605863062  ...    3.27 2020-11-20 17:04:22  54        evening  Rainy   \n",
              "\n",
              "      is_holiday                age_bin         age_group      is_workhours  \\\n",
              "0              n           Baby Boomers         YOUNG_OLD  Within Workhours   \n",
              "1              n                  Gen X  MIDDLE_ADULTHOOD  Within Workhours   \n",
              "2              n           Baby Boomers         YOUNG_OLD  Within Workhours   \n",
              "3              n           Baby Boomers         YOUNG_OLD  Within Workhours   \n",
              "4              n           Baby Boomers         YOUNG_OLD  Within Workhours   \n",
              "...          ...                    ...               ...               ...   \n",
              "92427          n                  Gen X  MIDDLE_ADULTHOOD  Within Workhours   \n",
              "92428          n  The Silent Generation           OLD_OLD     Not Workhours   \n",
              "92429          n                  Gen X  MIDDLE_ADULTHOOD  Within Workhours   \n",
              "92430          n  The Silent Generation           OLD_OLD     Not Workhours   \n",
              "92431          n                  Gen X  MIDDLE_ADULTHOOD  Within Workhours   \n",
              "\n",
              "             trans_hour  \n",
              "0      12:00 NN-3:00 PM  \n",
              "1      12:00 NN-3:00 PM  \n",
              "2      12:00 NN-3:00 PM  \n",
              "3       3:00 PM-6:00 PM  \n",
              "4      9:00 AM-12:00 NN  \n",
              "...                 ...  \n",
              "92427  12:00 NN-3:00 PM  \n",
              "92428   0:00 AM-3:00 AM  \n",
              "92429  9:00 AM-12:00 NN  \n",
              "92430   0:00 AM-3:00 AM  \n",
              "92431   3:00 PM-6:00 PM  \n",
              "\n",
              "[92432 rows x 21 columns]"
            ],
            "text/html": [
              "\n",
              "  <div id=\"df-c4f35456-8d56-4a4d-87ee-4201297908a9\" class=\"colab-df-container\">\n",
              "    <div>\n",
              "<style scoped>\n",
              "    .dataframe tbody tr th:only-of-type {\n",
              "        vertical-align: middle;\n",
              "    }\n",
              "\n",
              "    .dataframe tbody tr th {\n",
              "        vertical-align: top;\n",
              "    }\n",
              "\n",
              "    .dataframe thead th {\n",
              "        text-align: right;\n",
              "    }\n",
              "</style>\n",
              "<table border=\"1\" class=\"dataframe\">\n",
              "  <thead>\n",
              "    <tr style=\"text-align: right;\">\n",
              "      <th></th>\n",
              "      <th>cc_num</th>\n",
              "      <th>gender</th>\n",
              "      <th>city</th>\n",
              "      <th>city_pop</th>\n",
              "      <th>job</th>\n",
              "      <th>dob</th>\n",
              "      <th>acct_num</th>\n",
              "      <th>acct_num2</th>\n",
              "      <th>trans_num</th>\n",
              "      <th>unix_time</th>\n",
              "      <th>...</th>\n",
              "      <th>amt</th>\n",
              "      <th>trans_datetime</th>\n",
              "      <th>age</th>\n",
              "      <th>time_of_day</th>\n",
              "      <th>season</th>\n",
              "      <th>is_holiday</th>\n",
              "      <th>age_bin</th>\n",
              "      <th>age_group</th>\n",
              "      <th>is_workhours</th>\n",
              "      <th>trans_hour</th>\n",
              "    </tr>\n",
              "  </thead>\n",
              "  <tbody>\n",
              "    <tr>\n",
              "      <th>0</th>\n",
              "      <td>6.760000e+11</td>\n",
              "      <td>M</td>\n",
              "      <td>Dasmarinas</td>\n",
              "      <td>659019</td>\n",
              "      <td>Chartered loss adjuster</td>\n",
              "      <td>1958-12-12</td>\n",
              "      <td>798000000000</td>\n",
              "      <td>798000000000</td>\n",
              "      <td>a72eaa86b043eed95b25bbb25b3153a1</td>\n",
              "      <td>1581314011</td>\n",
              "      <td>...</td>\n",
              "      <td>68.88</td>\n",
              "      <td>2020-02-10 13:53:31</td>\n",
              "      <td>63</td>\n",
              "      <td>afternoon</td>\n",
              "      <td>Dry</td>\n",
              "      <td>n</td>\n",
              "      <td>Baby Boomers</td>\n",
              "      <td>YOUNG_OLD</td>\n",
              "      <td>Within Workhours</td>\n",
              "      <td>12:00 NN-3:00 PM</td>\n",
              "    </tr>\n",
              "    <tr>\n",
              "      <th>1</th>\n",
              "      <td>3.520000e+15</td>\n",
              "      <td>M</td>\n",
              "      <td>Digos</td>\n",
              "      <td>169393</td>\n",
              "      <td>Administrator, charities/voluntary organisations</td>\n",
              "      <td>1970-08-31</td>\n",
              "      <td>968000000000</td>\n",
              "      <td>968000000000</td>\n",
              "      <td>060d12f91c13871a13963041736a4702</td>\n",
              "      <td>1590902968</td>\n",
              "      <td>...</td>\n",
              "      <td>50.06</td>\n",
              "      <td>2020-05-31 13:29:28</td>\n",
              "      <td>51</td>\n",
              "      <td>afternoon</td>\n",
              "      <td>Dry</td>\n",
              "      <td>n</td>\n",
              "      <td>Gen X</td>\n",
              "      <td>MIDDLE_ADULTHOOD</td>\n",
              "      <td>Within Workhours</td>\n",
              "      <td>12:00 NN-3:00 PM</td>\n",
              "    </tr>\n",
              "    <tr>\n",
              "      <th>2</th>\n",
              "      <td>4.140000e+18</td>\n",
              "      <td>M</td>\n",
              "      <td>Calapan</td>\n",
              "      <td>133893</td>\n",
              "      <td>Financial controller</td>\n",
              "      <td>1953-07-23</td>\n",
              "      <td>628000000000</td>\n",
              "      <td>628000000000</td>\n",
              "      <td>18aafb6098ab0923886c0ac83592ef8d</td>\n",
              "      <td>1585461157</td>\n",
              "      <td>...</td>\n",
              "      <td>105.44</td>\n",
              "      <td>2020-03-29 13:52:37</td>\n",
              "      <td>68</td>\n",
              "      <td>afternoon</td>\n",
              "      <td>Dry</td>\n",
              "      <td>n</td>\n",
              "      <td>Baby Boomers</td>\n",
              "      <td>YOUNG_OLD</td>\n",
              "      <td>Within Workhours</td>\n",
              "      <td>12:00 NN-3:00 PM</td>\n",
              "    </tr>\n",
              "    <tr>\n",
              "      <th>3</th>\n",
              "      <td>4.720000e+15</td>\n",
              "      <td>M</td>\n",
              "      <td>Laoag</td>\n",
              "      <td>111125</td>\n",
              "      <td>Dance movement psychotherapist</td>\n",
              "      <td>1954-01-11</td>\n",
              "      <td>257000000000</td>\n",
              "      <td>257000000000</td>\n",
              "      <td>c20ee88b451f637bc6893b7460e9fee0</td>\n",
              "      <td>1601282159</td>\n",
              "      <td>...</td>\n",
              "      <td>82.69</td>\n",
              "      <td>2020-09-28 16:35:59</td>\n",
              "      <td>67</td>\n",
              "      <td>afternoon</td>\n",
              "      <td>Rainy</td>\n",
              "      <td>n</td>\n",
              "      <td>Baby Boomers</td>\n",
              "      <td>YOUNG_OLD</td>\n",
              "      <td>Within Workhours</td>\n",
              "      <td>3:00 PM-6:00 PM</td>\n",
              "    </tr>\n",
              "    <tr>\n",
              "      <th>4</th>\n",
              "      <td>3.530000e+15</td>\n",
              "      <td>M</td>\n",
              "      <td>City of Paranaque</td>\n",
              "      <td>665822</td>\n",
              "      <td>Engineer, water</td>\n",
              "      <td>1961-07-31</td>\n",
              "      <td>540000000000</td>\n",
              "      <td>540000000000</td>\n",
              "      <td>b389cc449c9c298e8c004024449f7a27</td>\n",
              "      <td>1594960430</td>\n",
              "      <td>...</td>\n",
              "      <td>363.49</td>\n",
              "      <td>2020-07-17 12:33:50</td>\n",
              "      <td>60</td>\n",
              "      <td>afternoon</td>\n",
              "      <td>Rainy</td>\n",
              "      <td>n</td>\n",
              "      <td>Baby Boomers</td>\n",
              "      <td>YOUNG_OLD</td>\n",
              "      <td>Within Workhours</td>\n",
              "      <td>9:00 AM-12:00 NN</td>\n",
              "    </tr>\n",
              "    <tr>\n",
              "      <th>...</th>\n",
              "      <td>...</td>\n",
              "      <td>...</td>\n",
              "      <td>...</td>\n",
              "      <td>...</td>\n",
              "      <td>...</td>\n",
              "      <td>...</td>\n",
              "      <td>...</td>\n",
              "      <td>...</td>\n",
              "      <td>...</td>\n",
              "      <td>...</td>\n",
              "      <td>...</td>\n",
              "      <td>...</td>\n",
              "      <td>...</td>\n",
              "      <td>...</td>\n",
              "      <td>...</td>\n",
              "      <td>...</td>\n",
              "      <td>...</td>\n",
              "      <td>...</td>\n",
              "      <td>...</td>\n",
              "      <td>...</td>\n",
              "      <td>...</td>\n",
              "    </tr>\n",
              "    <tr>\n",
              "      <th>92427</th>\n",
              "      <td>3.530000e+15</td>\n",
              "      <td>M</td>\n",
              "      <td>Dasmarinas</td>\n",
              "      <td>659019</td>\n",
              "      <td>Physicist, medical</td>\n",
              "      <td>1965-03-26</td>\n",
              "      <td>201000000000</td>\n",
              "      <td>201000000000</td>\n",
              "      <td>4f77498d91283c4910a636b2e8149dda</td>\n",
              "      <td>1587273415</td>\n",
              "      <td>...</td>\n",
              "      <td>6.54</td>\n",
              "      <td>2020-04-19 13:16:55</td>\n",
              "      <td>56</td>\n",
              "      <td>afternoon</td>\n",
              "      <td>Dry</td>\n",
              "      <td>n</td>\n",
              "      <td>Gen X</td>\n",
              "      <td>MIDDLE_ADULTHOOD</td>\n",
              "      <td>Within Workhours</td>\n",
              "      <td>12:00 NN-3:00 PM</td>\n",
              "    </tr>\n",
              "    <tr>\n",
              "      <th>92428</th>\n",
              "      <td>2.470000e+15</td>\n",
              "      <td>M</td>\n",
              "      <td>San Fernando</td>\n",
              "      <td>306659</td>\n",
              "      <td>Surveyor, quantity</td>\n",
              "      <td>1935-11-01</td>\n",
              "      <td>581100000000</td>\n",
              "      <td>581000000000</td>\n",
              "      <td>d44f411eabd406a76a60546e723a98fd</td>\n",
              "      <td>1628185569</td>\n",
              "      <td>...</td>\n",
              "      <td>98.23</td>\n",
              "      <td>2021-08-06 01:46:09</td>\n",
              "      <td>86</td>\n",
              "      <td>early morning</td>\n",
              "      <td>Rainy</td>\n",
              "      <td>n</td>\n",
              "      <td>The Silent Generation</td>\n",
              "      <td>OLD_OLD</td>\n",
              "      <td>Not Workhours</td>\n",
              "      <td>0:00 AM-3:00 AM</td>\n",
              "    </tr>\n",
              "    <tr>\n",
              "      <th>92429</th>\n",
              "      <td>3.520000e+15</td>\n",
              "      <td>M</td>\n",
              "      <td>Masbate</td>\n",
              "      <td>95389</td>\n",
              "      <td>Wellsite geologist</td>\n",
              "      <td>1967-11-20</td>\n",
              "      <td>531000000000</td>\n",
              "      <td>531000000000</td>\n",
              "      <td>7e767a74cae901c13f1a9d1d37aa63d4</td>\n",
              "      <td>1621481285</td>\n",
              "      <td>...</td>\n",
              "      <td>78.79</td>\n",
              "      <td>2021-05-20 11:28:05</td>\n",
              "      <td>54</td>\n",
              "      <td>morning</td>\n",
              "      <td>Dry</td>\n",
              "      <td>n</td>\n",
              "      <td>Gen X</td>\n",
              "      <td>MIDDLE_ADULTHOOD</td>\n",
              "      <td>Within Workhours</td>\n",
              "      <td>9:00 AM-12:00 NN</td>\n",
              "    </tr>\n",
              "    <tr>\n",
              "      <th>92430</th>\n",
              "      <td>4.620000e+15</td>\n",
              "      <td>M</td>\n",
              "      <td>San Fernando</td>\n",
              "      <td>121812</td>\n",
              "      <td>Personnel officer</td>\n",
              "      <td>1934-11-20</td>\n",
              "      <td>555000000000</td>\n",
              "      <td>555000000000</td>\n",
              "      <td>6ced184c93e66028e8d235ad3060de90</td>\n",
              "      <td>1625341374</td>\n",
              "      <td>...</td>\n",
              "      <td>31.37</td>\n",
              "      <td>2021-07-04 03:42:54</td>\n",
              "      <td>87</td>\n",
              "      <td>early morning</td>\n",
              "      <td>Rainy</td>\n",
              "      <td>n</td>\n",
              "      <td>The Silent Generation</td>\n",
              "      <td>OLD_OLD</td>\n",
              "      <td>Not Workhours</td>\n",
              "      <td>0:00 AM-3:00 AM</td>\n",
              "    </tr>\n",
              "    <tr>\n",
              "      <th>92431</th>\n",
              "      <td>3.800000e+13</td>\n",
              "      <td>M</td>\n",
              "      <td>City of Isabela</td>\n",
              "      <td>112788</td>\n",
              "      <td>Sport and exercise psychologist</td>\n",
              "      <td>1967-03-04</td>\n",
              "      <td>378000000000</td>\n",
              "      <td>378000000000</td>\n",
              "      <td>67f47400873e964e10e029050dbe1fee</td>\n",
              "      <td>1605863062</td>\n",
              "      <td>...</td>\n",
              "      <td>3.27</td>\n",
              "      <td>2020-11-20 17:04:22</td>\n",
              "      <td>54</td>\n",
              "      <td>evening</td>\n",
              "      <td>Rainy</td>\n",
              "      <td>n</td>\n",
              "      <td>Gen X</td>\n",
              "      <td>MIDDLE_ADULTHOOD</td>\n",
              "      <td>Within Workhours</td>\n",
              "      <td>3:00 PM-6:00 PM</td>\n",
              "    </tr>\n",
              "  </tbody>\n",
              "</table>\n",
              "<p>92432 rows × 21 columns</p>\n",
              "</div>\n",
              "    <div class=\"colab-df-buttons\">\n",
              "\n",
              "  <div class=\"colab-df-container\">\n",
              "    <button class=\"colab-df-convert\" onclick=\"convertToInteractive('df-c4f35456-8d56-4a4d-87ee-4201297908a9')\"\n",
              "            title=\"Convert this dataframe to an interactive table.\"\n",
              "            style=\"display:none;\">\n",
              "\n",
              "  <svg xmlns=\"http://www.w3.org/2000/svg\" height=\"24px\" viewBox=\"0 -960 960 960\">\n",
              "    <path d=\"M120-120v-720h720v720H120Zm60-500h600v-160H180v160Zm220 220h160v-160H400v160Zm0 220h160v-160H400v160ZM180-400h160v-160H180v160Zm440 0h160v-160H620v160ZM180-180h160v-160H180v160Zm440 0h160v-160H620v160Z\"/>\n",
              "  </svg>\n",
              "    </button>\n",
              "\n",
              "  <style>\n",
              "    .colab-df-container {\n",
              "      display:flex;\n",
              "      gap: 12px;\n",
              "    }\n",
              "\n",
              "    .colab-df-convert {\n",
              "      background-color: #E8F0FE;\n",
              "      border: none;\n",
              "      border-radius: 50%;\n",
              "      cursor: pointer;\n",
              "      display: none;\n",
              "      fill: #1967D2;\n",
              "      height: 32px;\n",
              "      padding: 0 0 0 0;\n",
              "      width: 32px;\n",
              "    }\n",
              "\n",
              "    .colab-df-convert:hover {\n",
              "      background-color: #E2EBFA;\n",
              "      box-shadow: 0px 1px 2px rgba(60, 64, 67, 0.3), 0px 1px 3px 1px rgba(60, 64, 67, 0.15);\n",
              "      fill: #174EA6;\n",
              "    }\n",
              "\n",
              "    .colab-df-buttons div {\n",
              "      margin-bottom: 4px;\n",
              "    }\n",
              "\n",
              "    [theme=dark] .colab-df-convert {\n",
              "      background-color: #3B4455;\n",
              "      fill: #D2E3FC;\n",
              "    }\n",
              "\n",
              "    [theme=dark] .colab-df-convert:hover {\n",
              "      background-color: #434B5C;\n",
              "      box-shadow: 0px 1px 3px 1px rgba(0, 0, 0, 0.15);\n",
              "      filter: drop-shadow(0px 1px 2px rgba(0, 0, 0, 0.3));\n",
              "      fill: #FFFFFF;\n",
              "    }\n",
              "  </style>\n",
              "\n",
              "    <script>\n",
              "      const buttonEl =\n",
              "        document.querySelector('#df-c4f35456-8d56-4a4d-87ee-4201297908a9 button.colab-df-convert');\n",
              "      buttonEl.style.display =\n",
              "        google.colab.kernel.accessAllowed ? 'block' : 'none';\n",
              "\n",
              "      async function convertToInteractive(key) {\n",
              "        const element = document.querySelector('#df-c4f35456-8d56-4a4d-87ee-4201297908a9');\n",
              "        const dataTable =\n",
              "          await google.colab.kernel.invokeFunction('convertToInteractive',\n",
              "                                                    [key], {});\n",
              "        if (!dataTable) return;\n",
              "\n",
              "        const docLinkHtml = 'Like what you see? Visit the ' +\n",
              "          '<a target=\"_blank\" href=https://colab.research.google.com/notebooks/data_table.ipynb>data table notebook</a>'\n",
              "          + ' to learn more about interactive tables.';\n",
              "        element.innerHTML = '';\n",
              "        dataTable['output_type'] = 'display_data';\n",
              "        await google.colab.output.renderOutput(dataTable, element);\n",
              "        const docLink = document.createElement('div');\n",
              "        docLink.innerHTML = docLinkHtml;\n",
              "        element.appendChild(docLink);\n",
              "      }\n",
              "    </script>\n",
              "  </div>\n",
              "\n",
              "\n",
              "<div id=\"df-1891006b-2822-4300-8ce5-b239effd415c\">\n",
              "  <button class=\"colab-df-quickchart\" onclick=\"quickchart('df-1891006b-2822-4300-8ce5-b239effd415c')\"\n",
              "            title=\"Suggest charts\"\n",
              "            style=\"display:none;\">\n",
              "\n",
              "<svg xmlns=\"http://www.w3.org/2000/svg\" height=\"24px\"viewBox=\"0 0 24 24\"\n",
              "     width=\"24px\">\n",
              "    <g>\n",
              "        <path d=\"M19 3H5c-1.1 0-2 .9-2 2v14c0 1.1.9 2 2 2h14c1.1 0 2-.9 2-2V5c0-1.1-.9-2-2-2zM9 17H7v-7h2v7zm4 0h-2V7h2v10zm4 0h-2v-4h2v4z\"/>\n",
              "    </g>\n",
              "</svg>\n",
              "  </button>\n",
              "\n",
              "<style>\n",
              "  .colab-df-quickchart {\n",
              "      --bg-color: #E8F0FE;\n",
              "      --fill-color: #1967D2;\n",
              "      --hover-bg-color: #E2EBFA;\n",
              "      --hover-fill-color: #174EA6;\n",
              "      --disabled-fill-color: #AAA;\n",
              "      --disabled-bg-color: #DDD;\n",
              "  }\n",
              "\n",
              "  [theme=dark] .colab-df-quickchart {\n",
              "      --bg-color: #3B4455;\n",
              "      --fill-color: #D2E3FC;\n",
              "      --hover-bg-color: #434B5C;\n",
              "      --hover-fill-color: #FFFFFF;\n",
              "      --disabled-bg-color: #3B4455;\n",
              "      --disabled-fill-color: #666;\n",
              "  }\n",
              "\n",
              "  .colab-df-quickchart {\n",
              "    background-color: var(--bg-color);\n",
              "    border: none;\n",
              "    border-radius: 50%;\n",
              "    cursor: pointer;\n",
              "    display: none;\n",
              "    fill: var(--fill-color);\n",
              "    height: 32px;\n",
              "    padding: 0;\n",
              "    width: 32px;\n",
              "  }\n",
              "\n",
              "  .colab-df-quickchart:hover {\n",
              "    background-color: var(--hover-bg-color);\n",
              "    box-shadow: 0 1px 2px rgba(60, 64, 67, 0.3), 0 1px 3px 1px rgba(60, 64, 67, 0.15);\n",
              "    fill: var(--button-hover-fill-color);\n",
              "  }\n",
              "\n",
              "  .colab-df-quickchart-complete:disabled,\n",
              "  .colab-df-quickchart-complete:disabled:hover {\n",
              "    background-color: var(--disabled-bg-color);\n",
              "    fill: var(--disabled-fill-color);\n",
              "    box-shadow: none;\n",
              "  }\n",
              "\n",
              "  .colab-df-spinner {\n",
              "    border: 2px solid var(--fill-color);\n",
              "    border-color: transparent;\n",
              "    border-bottom-color: var(--fill-color);\n",
              "    animation:\n",
              "      spin 1s steps(1) infinite;\n",
              "  }\n",
              "\n",
              "  @keyframes spin {\n",
              "    0% {\n",
              "      border-color: transparent;\n",
              "      border-bottom-color: var(--fill-color);\n",
              "      border-left-color: var(--fill-color);\n",
              "    }\n",
              "    20% {\n",
              "      border-color: transparent;\n",
              "      border-left-color: var(--fill-color);\n",
              "      border-top-color: var(--fill-color);\n",
              "    }\n",
              "    30% {\n",
              "      border-color: transparent;\n",
              "      border-left-color: var(--fill-color);\n",
              "      border-top-color: var(--fill-color);\n",
              "      border-right-color: var(--fill-color);\n",
              "    }\n",
              "    40% {\n",
              "      border-color: transparent;\n",
              "      border-right-color: var(--fill-color);\n",
              "      border-top-color: var(--fill-color);\n",
              "    }\n",
              "    60% {\n",
              "      border-color: transparent;\n",
              "      border-right-color: var(--fill-color);\n",
              "    }\n",
              "    80% {\n",
              "      border-color: transparent;\n",
              "      border-right-color: var(--fill-color);\n",
              "      border-bottom-color: var(--fill-color);\n",
              "    }\n",
              "    90% {\n",
              "      border-color: transparent;\n",
              "      border-bottom-color: var(--fill-color);\n",
              "    }\n",
              "  }\n",
              "</style>\n",
              "\n",
              "  <script>\n",
              "    async function quickchart(key) {\n",
              "      const quickchartButtonEl =\n",
              "        document.querySelector('#' + key + ' button');\n",
              "      quickchartButtonEl.disabled = true;  // To prevent multiple clicks.\n",
              "      quickchartButtonEl.classList.add('colab-df-spinner');\n",
              "      try {\n",
              "        const charts = await google.colab.kernel.invokeFunction(\n",
              "            'suggestCharts', [key], {});\n",
              "      } catch (error) {\n",
              "        console.error('Error during call to suggestCharts:', error);\n",
              "      }\n",
              "      quickchartButtonEl.classList.remove('colab-df-spinner');\n",
              "      quickchartButtonEl.classList.add('colab-df-quickchart-complete');\n",
              "    }\n",
              "    (() => {\n",
              "      let quickchartButtonEl =\n",
              "        document.querySelector('#df-1891006b-2822-4300-8ce5-b239effd415c button');\n",
              "      quickchartButtonEl.style.display =\n",
              "        google.colab.kernel.accessAllowed ? 'block' : 'none';\n",
              "    })();\n",
              "  </script>\n",
              "</div>\n",
              "    </div>\n",
              "  </div>\n"
            ],
            "application/vnd.google.colaboratory.intrinsic+json": {
              "type": "dataframe",
              "variable_name": "df"
            }
          },
          "metadata": {},
          "execution_count": 114
        }
      ]
    },
    {
      "cell_type": "code",
      "source": [
        "grouped_tod = df.groupby(['time_of_day', 'age_group'])['amt'].sum().unstack()\n",
        "\n",
        "y_order = ['early morning','morning', 'afternoon', 'evening', 'late night']\n",
        "grouped_tod = grouped_tod.loc[y_order]\n",
        "\n",
        "grouped_tod.plot(kind='barh', stacked=True, color=sns.color_palette(\"Pastel2\",3)).invert_yaxis()\n",
        "\n",
        "# Remove top and right spines\n",
        "ax = plt.gca()\n",
        "for spine in ['top', 'right']:\n",
        "    ax.spines[spine].set_visible(False)\n",
        "\n",
        "# Add labels and title\n",
        "plt.xlabel('Time of Day')\n",
        "plt.ylabel('Total Transaction Amount')\n",
        "plt.title('Total Transaction Amount by Time of Day')\n",
        "\n",
        "# Remove specific labels from the legend\n",
        "handles, labels = ax.get_legend_handles_labels()\n",
        "to_remove = ['MINORS','EARLY_ADULTHOOD']  # Labels to remove from the legend\n",
        "handles = [h for h, label in zip(handles, labels) if label not in to_remove]\n",
        "labels = [label for label in labels if label not in to_remove]\n",
        "ax.legend(handles, labels, title='Legend')"
      ],
      "metadata": {
        "id": "23JCE_YAR0kY"
      },
      "execution_count": null,
      "outputs": []
    },
    {
      "cell_type": "code",
      "source": [
        "amount_wh = df.groupby('is_workhours')['amt'].sum() /1000\n",
        "amount_wh.sort_values(ascending=True).plot(kind='barh', color = sns.color_palette(\"ch:rot=-.35,hue=1,dark=.75\"))\n",
        "plt.gca().spines[['top', 'right',]].set_visible(False)\n",
        "\n",
        "# Add labels and title\n",
        "plt.xlabel('in thousands of USD')\n",
        "plt.ylabel('')\n",
        "plt.title('Transaction Amount during Workhours')"
      ],
      "metadata": {
        "colab": {
          "base_uri": "https://localhost:8080/",
          "height": 489
        },
        "id": "Ki9Yr1zVxtSH",
        "outputId": "8044bd50-8f28-44d3-c262-228e1f37dba9"
      },
      "execution_count": 43,
      "outputs": [
        {
          "output_type": "execute_result",
          "data": {
            "text/plain": [
              "Text(0.5, 1.0, 'Transaction Amount during Workhours')"
            ]
          },
          "metadata": {},
          "execution_count": 43
        },
        {
          "output_type": "display_data",
          "data": {
            "text/plain": [
              "<Figure size 640x480 with 1 Axes>"
            ],
            "image/png": "[encoded data removed]"
          },
          "metadata": {}
        }
      ]
    },
    {
      "cell_type": "markdown",
      "source": [
        "## Transaction by Hour"
      ],
      "metadata": {
        "id": "ddoEy2ahWiWu"
      }
    },
    {
      "cell_type": "code",
      "source": [
        "bins = [-np.Inf,3,6,9,12,15,18,21,np.Inf]\n",
        "labels = [\"0:00 AM-3:00 AM\",\"3:00 AM-6:00 AM\",\"6:00 AM-9:00 AM\",\"9:00 AM-12:00 NN\",\n",
        "          \"12:00 NN-3:00 PM\",\"3:00 PM-6:00 PM\",\"6:00 PM-9:00 PM\",\"9:00 PM-12:00 MN\"]\n",
        "\n",
        "df[\"trans_hour\"] = pd.cut(df['trans_datetime'].dt.hour,\n",
        "                        bins=bins,\n",
        "                        labels=labels,\n",
        "                        right=True)"
      ],
      "metadata": {
        "id": "CyaOUiB_iCx1"
      },
      "execution_count": 38,
      "outputs": []
    },
    {
      "cell_type": "code",
      "source": [
        "df['trans_hour'].value_counts(normalize=True) *100"
      ],
      "metadata": {
        "id": "lFLLb0NAiCkO",
        "colab": {
          "base_uri": "https://localhost:8080/"
        },
        "outputId": "0bc2ae41-4180-42ad-8f91-03fafb350f93"
      },
      "execution_count": 39,
      "outputs": [
        {
          "output_type": "execute_result",
          "data": {
            "text/plain": [
              "trans_hour\n",
              "9:00 AM-12:00 NN    15.081357\n",
              "3:00 PM-6:00 PM     14.959105\n",
              "12:00 NN-3:00 PM    14.877964\n",
              "0:00 AM-3:00 AM     13.554829\n",
              "6:00 AM-9:00 AM     13.422841\n",
              "6:00 PM-9:00 PM     11.466808\n",
              "3:00 AM-6:00 AM     10.017094\n",
              "9:00 PM-12:00 MN     6.620002\n",
              "Name: proportion, dtype: float64"
            ]
          },
          "metadata": {},
          "execution_count": 39
        }
      ]
    },
    {
      "cell_type": "markdown",
      "source": [
        "### Visualizing"
      ],
      "metadata": {
        "id": "p3sYtztrs1R9"
      }
    },
    {
      "cell_type": "code",
      "source": [
        "df.groupby('trans_hour').size().plot(kind='barh', color = sns.color_palette(\"ch:rot=-.25,hue=1,dark=.75\")).invert_yaxis()\n",
        "plt.gca().spines[['top', 'right',]].set_visible(False)\n",
        "\n",
        "# Add labels and title\n",
        "plt.xlabel('Transaction Volume')\n",
        "plt.ylabel('')\n",
        "plt.title('Transaction Volume per Hour')"
      ],
      "metadata": {
        "id": "u9PDejGgiCdF",
        "colab": {
          "base_uri": "https://localhost:8080/",
          "height": 489
        },
        "outputId": "eb56d954-8203-434d-ad13-d28513c38473"
      },
      "execution_count": 40,
      "outputs": [
        {
          "output_type": "execute_result",
          "data": {
            "text/plain": [
              "Text(0.5, 1.0, 'Transaction Volume per Hour')"
            ]
          },
          "metadata": {},
          "execution_count": 40
        },
        {
          "output_type": "display_data",
          "data": {
            "text/plain": [
              "<Figure size 640x480 with 1 Axes>"
            ],
            "image/png": "[encoded data removed]"
          },
          "metadata": {}
        }
      ]
    },
    {
      "cell_type": "code",
      "source": [
        "amount_hr = df.groupby('trans_hour')['amt'].sum() /1000\n",
        "amount_hr.plot(kind='barh', color = sns.color_palette(\"ch:rot=-.35,hue=1,dark=.75\")).invert_yaxis()\n",
        "plt.gca().spines[['top', 'right',]].set_visible(False)\n",
        "\n",
        "# Add labels and title\n",
        "plt.xlabel('in thousands of USD')\n",
        "plt.ylabel('')\n",
        "plt.title('Transaction Amount per Hour of Day')"
      ],
      "metadata": {
        "colab": {
          "base_uri": "https://localhost:8080/",
          "height": 489
        },
        "id": "zrikDQP_ygXl",
        "outputId": "23a53d4f-e012-4aca-b030-c60d08c1944b"
      },
      "execution_count": 45,
      "outputs": [
        {
          "output_type": "execute_result",
          "data": {
            "text/plain": [
              "Text(0.5, 1.0, 'Transaction Amount per Hour of Day')"
            ]
          },
          "metadata": {},
          "execution_count": 45
        },
        {
          "output_type": "display_data",
          "data": {
            "text/plain": [
              "<Figure size 640x480 with 1 Axes>"
            ],
            "image/png": "[encoded data removed]"
          },
          "metadata": {}
        }
      ]
    },
    {
      "cell_type": "markdown",
      "source": [
        "# Saving csv file"
      ],
      "metadata": {
        "id": "sJ5C0mLjzZjs"
      }
    },
    {
      "cell_type": "code",
      "source": [
        "df.to_csv('timeofday.csv', index=False)"
      ],
      "metadata": {
        "id": "RP1voJyxzcYi"
      },
      "execution_count": 46,
      "outputs": []
    }
  ]
}